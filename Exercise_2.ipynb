{
 "cells": [
  {
   "cell_type": "markdown",
   "id": "consecutive-commonwealth",
   "metadata": {},
   "source": [
    "# Exercise 2: Kids First Data"
   ]
  },
  {
   "cell_type": "markdown",
   "id": "sharp-survival",
   "metadata": {},
   "source": [
    "## Learning Objectives and Key Concepts\n",
    "\n",
    "Workshop attendees will learn how to query FHIR resources in various ways, to enable visualizing and analyzing data.  \n",
    "\n",
    "What will participants do as part of the exercise?\n",
    "\n",
    " - Connecting to Kids First\n",
    " - Fetching and Examining Demographic Data\n",
    " - Finding a ResearchStudy\n",
    " - Fetching Patients enrolled in a ResearchStudy\n",
    " - Dealing with Extensions (e.g., age of onset)\n",
    " - Identifying Patients with desired diagnosis and data elements across multiple studies/datasets\n",
    " - Utilize APIs to explore the data (e.g., demographics)\n",
    " - Utilize APIs for research analyses (e.g., phenotype analysis)\n",
    " - Building Graphs from FHIR data\n",
    "     - Demographics\n",
    "     - Most Frequent Diagnoses\n",
    "     - Age at Diagnosis\n",
    "     - Overall Survival\n",
    "     \n",
    "     \n",
    " ### Icons in this Guide\n",
    " 📘 A link to a useful external reference related to the section the icon appears in  \n",
    "\n",
    " 🖐 A hands-on section where you will code something or interact with the server  "
   ]
  },
  {
   "cell_type": "markdown",
   "id": "formed-needle",
   "metadata": {},
   "source": [
    "## Scenario\n",
    "\n",
    "In this exercise we're going to explore how to access the data needed to generate the summary information from the Kids First dashboard in a few different ways. A snapshot of the Kids First dashboard is shown below:\n",
    "\n",
    "![KF Dashboard](img/kf_dashboard.png)\n",
    "\n",
    "The Kids First Data Portal is accessible at https://portal.kidsfirstdrc.org/explore (login required, though signup is free with any Google account)\n",
    "\n",
    "For this exercise we'll be focusing on the following 4 graphs:\n",
    " - Demographics\n",
    " - Most frequent diagnoses\n",
    " - Age at diagnosis\n",
    " - Overall survival\n",
    " \n",
    " (Note that the image shown depicts the statistics for the entire Kids First population, whereas all graphs in this exercise will be based on specific sub-cohorts of the population, so the graphs we generate today will look a little different.)"
   ]
  },
  {
   "cell_type": "markdown",
   "id": "acting-butterfly",
   "metadata": {},
   "source": [
    "## Environment Setup\n",
    "\n",
    "First, let's configure the environment with the libraries and settings that will be used throughtout the rest of the exercise. (This cell has no output)"
   ]
  },
  {
   "cell_type": "code",
   "execution_count": 1,
   "id": "sensitive-preparation",
   "metadata": {},
   "outputs": [
    {
     "ename": "SyntaxError",
     "evalue": "invalid syntax (<ipython-input-1-f4c15120fb98>, line 36)",
     "output_type": "error",
     "traceback": [
      "\u001b[0;36m  File \u001b[0;32m\"<ipython-input-1-f4c15120fb98>\"\u001b[0;36m, line \u001b[0;32m36\u001b[0m\n\u001b[0;31m    if !truncate_for_github:\u001b[0m\n\u001b[0m       ^\u001b[0m\n\u001b[0;31mSyntaxError\u001b[0m\u001b[0;31m:\u001b[0m invalid syntax\n"
     ]
    }
   ],
   "source": [
    "import json\n",
    "import requests\n",
    "import pandas as pd \n",
    "import numpy as np\n",
    "import seaborn as sns\n",
    "\n",
    "from datetime import datetime\n",
    "import pprint\n",
    "\n",
    "pprint = pprint.PrettyPrinter(indent=1).pprint\n",
    "# pprint() is now available to pretty-print any JSON\n",
    "\n",
    "FHIR_SERVER = 'https://kf-api-fhir-service.kidsfirstdrc.org'\n",
    "\n",
    "# Kids First uses cookie-based authentication, so we've pre-fetched a cookie and made it available here.\n",
    "\n",
    "# We make a requests.Session to ensure consistent headers/cookie across all the requests we make\n",
    "s = requests.Session()\n",
    "s.headers.update({'Accept': 'application/fhir+json'})\n",
    "\n",
    "with open('kf_cookie.txt', 'r') as file:\n",
    "    cookie = file.read().rstrip()\n",
    "    s.cookies['AWSELBAuthSessionCookie-0'] = cookie\n",
    "\n",
    "# disable SSL verification:\n",
    "# these 2 lines should be commented out unless you actually see certificate errors\n",
    "s.verify = False\n",
    "requests.packages.urllib3.disable_warnings()\n",
    "\n",
    "\n",
    "# This helper method allows us to easily switch between printing an entire Bundle, or just the first 20 lines.\n",
    "# Set truncate_for_github = False for actual use,\n",
    "# or just replace the function with a `return bundle`\n",
    "\n",
    "def print_bundle(bundle, truncate_for_github = True):\n",
    "    if !truncate_for_github:\n",
    "        return bundle\n",
    "    \n",
    "    lines = json.dumps(bundle, indent=2).split('\\n')\n",
    "    if len(lines) <= 20:\n",
    "        return bundle\n",
    "    else:   \n",
    "        print('\\n'.join(lines[:20]))\n",
    "        print('...\\nBundle truncated. Redefine the \"print_bundle\" function above to print the full content.')"
   ]
  },
  {
   "cell_type": "markdown",
   "id": "seven-scientist",
   "metadata": {},
   "source": [
    "## 1. Demographics"
   ]
  },
  {
   "cell_type": "markdown",
   "id": "accredited-heritage",
   "metadata": {},
   "source": [
    "Our first step will be show how to review basic demographic information for a patient cohort. Let's explore a few approaches for constructing a patient cohort."
   ]
  },
  {
   "cell_type": "markdown",
   "id": "bulgarian-revision",
   "metadata": {},
   "source": [
    "### 1.1. Just the first N patients on the server\n",
    "\n",
    "For the simplest example, let's just query for the first set of Patients on the server and see what that looks like.\n",
    "\n",
    "🖐 Knowledge Check: Fill in the query to select Patients on the server.\n",
    "\n",
    "(Note that there are over 10,000 Patient resources on this server, so we don't want to query them all or follow all the pagination. For performance reasons, all the examples in this notebook are intended to run with only a single page of results, but in a real-world use case, you would want to follow the pagination as shown in the previous exercise, to make sure you fetched all the requested data for a given query.)"
   ]
  },
  {
   "cell_type": "code",
   "execution_count": null,
   "id": "valuable-voice",
   "metadata": {},
   "outputs": [],
   "source": [
    "r = s.get(f\"{FHIR_SERVER}/Patient\")\n",
    "bundle = r.json()\n",
    "print_bundle(bundle)"
   ]
  },
  {
   "cell_type": "markdown",
   "id": "theoretical-memorial",
   "metadata": {},
   "source": [
    "There's a ton of data there, so we know the request was successful, but there's too much content to really get any sense of what we're looking at.  \n",
    "(Note: if you get a `JSONDecodeError: Expecting value: line 1 column 1 (char 0)` then the cookie you are using expired - let the instructors know ASAP so they can fetch a new one, or [see these instructions to fetch a cookie](https://github.com/kids-first/kf-api-fhir-service#authenticate-to-access-server-environment) and put it into the kf_cookie.txt file, then reload the Environment Setup step above.)\n",
    "\n",
    "Let's filter the bundle down to just a list of Patient resources, and see some examples of what Patient resources contain on this server:"
   ]
  },
  {
   "cell_type": "code",
   "execution_count": null,
   "id": "northern-scoop",
   "metadata": {},
   "outputs": [],
   "source": [
    "patients = list(map(lambda e: e['resource'], bundle['entry']))\n",
    "pprint(patients[0])\n",
    "print('---')\n",
    "pprint(patients[1])\n"
   ]
  },
  {
   "cell_type": "markdown",
   "id": "honey-partition",
   "metadata": {},
   "source": [
    "We can see the key data items we are looking for in these 2 Patient resources - gender, race, and ethnicity. (Race and ethnicity may be shown as \"Not Reported\" unfortunately, but we can see where they would fit)\n",
    "\n",
    "Let's convert the list of Patients to a DataFrame and translate columns as appropriate."
   ]
  },
  {
   "cell_type": "code",
   "execution_count": null,
   "id": "practical-diana",
   "metadata": {},
   "outputs": [],
   "source": [
    "patients_df = pd.DataFrame(patients)\n",
    "patients_df.head()"
   ]
  },
  {
   "cell_type": "markdown",
   "id": "opponent-circus",
   "metadata": {},
   "source": [
    "Gender is a column all by itself, so it's easy to review.\n",
    "\n",
    "Let's take a look at the gender breakdown with a pie chart."
   ]
  },
  {
   "cell_type": "code",
   "execution_count": null,
   "id": "rural-reduction",
   "metadata": {},
   "outputs": [],
   "source": [
    "patients_df['gender'].value_counts().plot.pie()"
   ]
  },
  {
   "cell_type": "markdown",
   "id": "excellent-directive",
   "metadata": {},
   "source": [
    "Race and Ethnicity are a little tricker to because, as we saw in our examples above, they are recorded as _extensions_. Extensions are used to represent information that is not part of the basic definition of a resource.\n",
    "\n",
    "Every element in a resource or data type includes an optional \"extension\" child element that may be present any number of times. Extensions contain a defining `url` and either a `value[x]` or sub-extensions (but not both). \n",
    "\n",
    "This also leads into choice types, ie, that `value[x]`. Choice types allow for different instances to use different data types as appropriate. Only one of the choices is allowed at a time on a given resource instance.\n",
    "\n",
    "A simple example of choice types is the `Patient.deceased[x]` field indicating if the individual is deceased or not. `deceased[x]` is allowed to be either a `boolean` or `dateTime`.\n",
    "\n",
    "\n",
    "Note that extensions are also allowed on primitive types, so in JSON these are represented by prepending the field name with an underscore `_` to create a new object-type field where the extension field can be added. The following example demonstrates the \"birthTime\" extension on the `Patient.birthDate` field:\n",
    "\n",
    "```\n",
    "{\n",
    "    \"resourceType\": \"Patient\",\n",
    "    ...\n",
    "    \"birthDate\": \"1987-06-05\",\n",
    "    \"_birthDate\": {\n",
    "        \"extension\": [\n",
    "            {\n",
    "                \"url\": \"http://hl7.org/fhir/StructureDefinition/patient-birthTime\",\n",
    "                \"valueDateTime\": \"1987-06-05T04:32:01Z\"\n",
    "            }\n",
    "        ]\n",
    "    }\n",
    "}\n",
    "```\n",
    "\n",
    "We'll see more instances like this later in the exercise.\n",
    "\n",
    "📘[Read more about Extensions in FHIR](https://www.hl7.org/fhir/extensibility.html)\n",
    "\n",
    "\n",
    "Getting back to Race and Ethnicity, these extensions are defined within [US Core](https://www.hl7.org/fhir/us/core/) which is an implementation guide that defines the base set of requirements for FHIR implementation in the US and reflects the ONC U.S. Core Data for Interoperability required data fields. Further details about US Core are outside the scope of this exercise, but for now understand that nearly all FHIR data within the US will use US Core.\n",
    "\n",
    "Both the Race and Ethnicity extension use subextensions to represent the concept in 3 possible ways:\n",
    " - OMB Category, based on the (https://www.govinfo.gov/content/pkg/FR-1997-10-30/pdf/97-28653.pdf)\n",
    "    - `url` is \"ombCategory\"\n",
    "    - `valueCoding` from the [OMB Race Categories ValueSet](https://hl7.org/fhir/us/core/STU4/ValueSet-omb-race-category.html) or [OMB Ethnicity Categories ValueSet](https://www.hl7.org/fhir/us/core/ValueSet-omb-ethnicity-category.html)\n",
    " - Detailed, based on CDC Race and Ethnicity codes\n",
    "   - `url` is \"detailed\"\n",
    "   - `valueCoding` from the [Detailed race ValueSet](https://www.hl7.org/fhir/us/core/ValueSet-detailed-race.html) or [Detailed ethnicity ValueSet](https://www.hl7.org/fhir/us/core/ValueSet-detailed-ethnicity.html)\n",
    " - Text, free text (required)\n",
    "   - `url` is \"text\"\n",
    "   - `valueString` is free text\n",
    "\n",
    "📘[Read more about the US Core Race Extension](https://hl7.org/fhir/us/core/STU4/StructureDefinition-us-core-race.html) \n",
    "\n",
    "📘[Read more about the US Core Ethnicity Extension](https://hl7.org/fhir/us/core/STU4/StructureDefinition-us-core-ethnicity.html) "
   ]
  },
  {
   "cell_type": "markdown",
   "id": "hungry-extra",
   "metadata": {},
   "source": [
    "Given the above let's define functions to find the Race and Ethnicity on a Patient resource.\n",
    "\n",
    "🖐 Fill in the contents of the `get_race` and `get_ethnicity` functions to fetch a consistent race and ethnicity value out of the extensions on a Patient resource:"
   ]
  },
  {
   "cell_type": "code",
   "execution_count": null,
   "id": "threatened-driver",
   "metadata": {},
   "outputs": [],
   "source": [
    "def get_us_core_extension_value(key, extensions):\n",
    "    url = f\"http://hl7.org/fhir/us/core/StructureDefinition/us-core-{key}\"\n",
    "    extension = next(filter(lambda e: e['url'] == url, extensions), None)\n",
    "    if extension is None:\n",
    "        return None\n",
    "    \n",
    "    extension = extension['extension'][0]\n",
    "    \n",
    "    if 'valueString' in extension:\n",
    "        return extension['valueString']\n",
    "    elif 'valueCoding' in extension:\n",
    "        return extension['valueCoding']['display']\n",
    "    \n",
    "    return None\n",
    "\n",
    "def get_race(extensions):\n",
    "    return get_us_core_extension_value('race', extensions)\n",
    "    \n",
    "def get_ethnicity(extensions):\n",
    "    return get_us_core_extension_value('ethnicity', extensions)"
   ]
  },
  {
   "cell_type": "markdown",
   "id": "sudden-cargo",
   "metadata": {},
   "source": [
    "And then we'll use those functions to get Race and Ethnicity as columns in our DataFrame:"
   ]
  },
  {
   "cell_type": "code",
   "execution_count": null,
   "id": "exterior-remove",
   "metadata": {},
   "outputs": [],
   "source": [
    "patients_df['race'] = patients_df['extension'].map(lambda e: get_race(e))\n",
    "patients_df['ethnicity'] = patients_df['extension'].map(lambda e: get_ethnicity(e))\n",
    "\n",
    "patients_df.head()"
   ]
  },
  {
   "cell_type": "markdown",
   "id": "light-chapter",
   "metadata": {},
   "source": [
    "Now let's review the race and ethnicity breakdown of this set of Patients:"
   ]
  },
  {
   "cell_type": "code",
   "execution_count": null,
   "id": "dying-working",
   "metadata": {},
   "outputs": [],
   "source": [
    "patients_df['race'].value_counts().plot.pie()"
   ]
  },
  {
   "cell_type": "code",
   "execution_count": null,
   "id": "buried-proposition",
   "metadata": {},
   "outputs": [],
   "source": [
    "patients_df['ethnicity'].value_counts().plot.pie()"
   ]
  },
  {
   "cell_type": "markdown",
   "id": "adolescent-agent",
   "metadata": {},
   "source": [
    "### 1.2. Patients with a given Condition\n",
    "\n",
    "In the previous steps we reviewed what is essentially a random set of Patients, just the first set that the server returned when we asked for all Patients. Now let's get more targeted and query for just patients who have a diagnosis of a particular Condition. Then we can use the same process and functions we've already defined to analyze/visualize it.\n",
    "\n",
    "\n",
    "Kids First uses the [Mondo Disease Ontology](https://mondo.monarchinitiative.org/) for describing Conditions. Other servers may use different one or code systems such as [SNOMED-CT](), [ICD-10](), or others. A simple browser for finding Mondo codes by description is available at https://www.ebi.ac.uk/ols/ontologies/mondo . Using this browser, we can look at a few sample codes:\n",
    "\n",
    "\n",
    "| code | description |\n",
    "| --- | --- |\n",
    "| MONDO:0005015 | diabetes mellitus |\n",
    "| MONDO:0005961 | sinusitis |\n",
    "| MONDO:0008903 | lung cancer |\n",
    "| MONDO:0021640 | grade III glioma |\n",
    "\n",
    "\n",
    "Let's use grade III glioma as our condition of interest, with **MONDO:0021640** as our code of interest going forward."
   ]
  },
  {
   "cell_type": "markdown",
   "id": "romance-reservation",
   "metadata": {},
   "source": [
    "In Exercise 1 we saw an instance of basic querying, when we searched for MedicationRequests associated to a given Patient. (Reminder: `\"{FHIR_SERVER}/MedicationRequest?patient=10098\"`) This is one of the most basic and fundamental types of query, where we get resources from a server, filtered by some aspect of the resource itself. In the previous example with medications, the MedicationRequest resource has a reference back to the Patient in the `patient` field so we can query that directly. \n",
    "But what if we want to go in the other direction? For example, find all Patients that are taking a given Medication, or Patients that have been diagnosed with a given Condition? \n",
    "\n",
    "Enter \"chaining\" and \"reverse chaining\". These are capabilities of FHIR that allow for more complex queries that can save a client and/or server from having to perform a series of operations.\n",
    "\n",
    "The FHIR documentation offers the following examples of chaining:\n",
    "\n",
    ">  In order to save a client from performing a series of search operations, reference parameters may be \"chained\" by appending them with a period (.) followed by the name of a search parameter defined for the target resource. This can be done recursively, following a logical path through a graph of related resources, separated by `.`. For instance, given that the resource `DiagnosticReport` has a search parameter named `subject`, which is usually a reference to a `Patient` resource, and the `Patient` resource includes a parameter `name` which searches on patient name, then the search  \n",
    "> \n",
    "> `GET [base]/DiagnosticReport?subject.name=peter`  \n",
    ">\n",
    "> is a request to return all the lab reports that have a `subject` whose `name` includes \"peter\". Because the Diagnostic Report subject can be one of a set of different resources, it's necessary to limit the search to a particular type:  \n",
    ">\n",
    "> `GET [base]/DiagnosticReport?subject:Patient.name=peter`  \n",
    ">\n",
    "> This request returns all the lab reports that have a subject which is a patient, whose name includes \"peter\". \n",
    "\n",
    "\n",
    "\n",
    "In the case of \"Patients diagnosed with a given Condition\", we want the opposite direction - search for resources based on what links back to them. This is done with the `_has` search parameter.\n",
    "\n",
    "The `_has` search parameter uses the colon character `:` to separate fields, and requires a few sub-parameters:\n",
    "\n",
    " - the resource type to search for references back from\n",
    " - the field on that resource which would link back to the current resource\n",
    " - a field on that resource to filter by\n",
    "\n",
    "\n",
    "A complete example is:\n",
    "\n",
    "`[base]/Patient?_has:Observation:patient:code=1234-5`\n",
    "\n",
    "This requests the server to return Patient resources, where the patient resource is referred to by at least one Observation where the observation has a code of 1234, and where the Observation refers to the patient resource in the patient search parameter. \n",
    "\n",
    "\n",
    "Unfortunately we acknowledge the syntax is a little confusing. It may be easiest to read this query as as \"Get Patients that have an Observation that links back to this Patient having a code of 1234-5\"\n",
    "\n",
    "\n",
    "📘 [Read more about FHIR Search Chaining and Reverse Chaining](https://hl7.org/fhir/r4/search.html#chaining)\n",
    "\n",
    "Let's use this approach to find Patients based on a diagnosis.\n",
    "\n",
    "🖐 Fill in the search query to find Patients that have a Condition of grade III glioma.\n",
    "\n",
    "Then we'll use the same functions we defined before to map race and ethnicity columns and put the data into graphs."
   ]
  },
  {
   "cell_type": "code",
   "execution_count": null,
   "id": "ruled-jimmy",
   "metadata": {},
   "outputs": [],
   "source": [
    "r = s.get(f\"{FHIR_SERVER}/Patient?_has:Condition:patient:code=MONDO:0021640\")\n",
    "bundle = r.json()\n",
    "patients = list(map(lambda e: e['resource'], bundle['entry']))\n",
    "patients_df = pd.DataFrame(patients)\n",
    "\n",
    "patients_df['race'] = patients_df['extension'].map(lambda e: get_race(e))\n",
    "patients_df['ethnicity'] = patients_df['extension'].map(lambda e: get_ethnicity(e))\n",
    "\n",
    "patients_df.head()"
   ]
  },
  {
   "cell_type": "markdown",
   "id": "competitive-victory",
   "metadata": {},
   "source": [
    "And we can review the demographics in the same way as before:"
   ]
  },
  {
   "cell_type": "code",
   "execution_count": null,
   "id": "particular-relations",
   "metadata": {},
   "outputs": [],
   "source": [
    "patients_df['gender'].value_counts().plot.pie()"
   ]
  },
  {
   "cell_type": "code",
   "execution_count": null,
   "id": "nearby-newcastle",
   "metadata": {},
   "outputs": [],
   "source": [
    "patients_df['race'].value_counts().plot.pie()"
   ]
  },
  {
   "cell_type": "code",
   "execution_count": null,
   "id": "elementary-saying",
   "metadata": {},
   "outputs": [],
   "source": [
    "patients_df['ethnicity'].value_counts().plot.pie()"
   ]
  },
  {
   "cell_type": "markdown",
   "id": "advisory-diamond",
   "metadata": {},
   "source": [
    "### 1.3. Patients within a given Research Study\n",
    "\n",
    "The Kids First portal is comprised of multiple research studies. \n",
    "See more at:  \n",
    "  https://portal.kidsfirstdrc.org/studies  \n",
    "or  \n",
    "  https://www.notion.so/Studies-and-Access-a5d2f55a8b40461eac5bf32d9483e90f  \n",
    "\n",
    "In this step we'll explore how to query for patients specifically associated to one of these research studies. Let's pick the \"Pediatric Brain Tumor Atlas: CBTTC\" as an example, because it has a large number of participants."
   ]
  },
  {
   "cell_type": "markdown",
   "id": "micro-double",
   "metadata": {},
   "source": [
    "First let's find the study we are interested in as a ResearchStudy. There are a few possible ways we can do this, for example a search on ResearchStudy.title, but we don't necessarily know the title of the FHIR resource is going to match those other lists.\n",
    "\n",
    "Let's list all the ResearchStudies on the server and see what we can find."
   ]
  },
  {
   "cell_type": "code",
   "execution_count": null,
   "id": "boring-radical",
   "metadata": {},
   "outputs": [],
   "source": [
    "r = s.get(f\"{FHIR_SERVER}/ResearchStudy\")\n",
    "bundle = r.json()\n",
    "print_bundle(bundle)"
   ]
  },
  {
   "cell_type": "markdown",
   "id": "upper-heaven",
   "metadata": {},
   "source": [
    "Looks like we want ID **76758**, which actually has title \"Pediatric Brain Tumor Atlas - Children's Brain Tumor Tissue Consortium\". We'll continue to use this ResearchStudy for future steps in this exercise.\n",
    "\n",
    "If we'd like we can query for ResearchSubjects by this ResearchStudy, and see what an example looks like:"
   ]
  },
  {
   "cell_type": "code",
   "execution_count": null,
   "id": "immune-aruba",
   "metadata": {},
   "outputs": [],
   "source": [
    "r = s.get(f\"{FHIR_SERVER}/ResearchSubject?study=76758\")\n",
    "bundle = r.json()\n",
    "pprint(bundle['entry'][0])"
   ]
  },
  {
   "cell_type": "markdown",
   "id": "authorized-fighter",
   "metadata": {},
   "source": [
    "More importantly, we can query for Patient resources by ResearchStudy via those ResearchSubjects (notice the reference to a Patient in the `individual` field), and again run our same analysis. (hint: sounds like reverse-chaining again!)\n",
    "\n",
    "\n",
    "🖐 Fill in the query to find Patients that are associated to a ResearchStudy\n",
    "\n",
    "Then we'll run through our usual mappings and graphs one more time."
   ]
  },
  {
   "cell_type": "code",
   "execution_count": null,
   "id": "south-scanner",
   "metadata": {},
   "outputs": [],
   "source": [
    "r = s.get(f\"{FHIR_SERVER}/Patient?_has:ResearchSubject:individual:study=76758\")\n",
    "bundle = r.json()\n",
    "patients = list(map(lambda e: e['resource'], bundle['entry']))\n",
    "patients_df = pd.DataFrame(patients)\n",
    "\n",
    "patients_df['race'] = patients_df['extension'].map(lambda e: get_race(e))\n",
    "patients_df['ethnicity'] = patients_df['extension'].map(lambda e: get_ethnicity(e))\n",
    "\n",
    "patients_df.head()"
   ]
  },
  {
   "cell_type": "code",
   "execution_count": null,
   "id": "valuable-booth",
   "metadata": {},
   "outputs": [],
   "source": [
    "patients_df['gender'].value_counts().plot.pie()"
   ]
  },
  {
   "cell_type": "code",
   "execution_count": null,
   "id": "pharmaceutical-score",
   "metadata": {},
   "outputs": [],
   "source": [
    "patients_df['race'].value_counts().plot.pie()"
   ]
  },
  {
   "cell_type": "code",
   "execution_count": null,
   "id": "sudden-local",
   "metadata": {},
   "outputs": [],
   "source": [
    "patients_df['ethnicity'].value_counts().plot.pie()"
   ]
  },
  {
   "cell_type": "markdown",
   "id": "mechanical-strain",
   "metadata": {},
   "source": [
    "## 2. Most Frequent Diagnoses\n",
    "\n",
    "Our second step will be show how to perform queries that enable basic prevalence analysis. Again there are a few different ways we can build a cohort for this."
   ]
  },
  {
   "cell_type": "markdown",
   "id": "noted-culture",
   "metadata": {},
   "source": [
    "### 2.1. Just the first conditions on the server\n",
    "\n",
    "As before, let's start with the simplest possible approach of just selecting an unfiltered and unsorted set of Condition resources. This time, let's tell the server we want 250 Conditions.   \n",
    "(Why 250? In this case it's the most the server will return in one response.)\n",
    "\n",
    "🖐 Fill in the query to select 250 Condition resources from the server"
   ]
  },
  {
   "cell_type": "code",
   "execution_count": null,
   "id": "liberal-thread",
   "metadata": {},
   "outputs": [],
   "source": [
    "r = s.get(f\"{FHIR_SERVER}/Condition?_count=250\")\n",
    "bundle = r.json()\n",
    "print_bundle(bundle)"
   ]
  },
  {
   "cell_type": "markdown",
   "id": "excess-messaging",
   "metadata": {},
   "source": [
    "As before when we've looked at a searchset Bundle, there's too much to really process at a glance.\n",
    "\n",
    "Let's filter the bundle down to just a list of Condition resources, and see what one Condition resource contains.\n"
   ]
  },
  {
   "cell_type": "code",
   "execution_count": null,
   "id": "qualified-comedy",
   "metadata": {},
   "outputs": [],
   "source": [
    "conditions = list(map(lambda e: e['resource'], bundle['entry']))\n",
    "pprint(conditions[0])"
   ]
  },
  {
   "cell_type": "markdown",
   "id": "active-colony",
   "metadata": {},
   "source": [
    "The key to what this Condition represents is nested within the `code` field, but there's a lot of information there. Let's dig into three very important types in FHIR: `code`, `Coding`, and `CodeableConcept`.\n",
    "### code\n",
    "`code` is a FHIR primitive based on string. `code`s are generally taken from a controlled set of strings defined elsewhere, and are restricted in that `code`s may not contain leading whitespace, trailing whitespace, or more than 1 consecutive whitespace character. `\"9283-4\"` is an example of a `code`.\n",
    "\n",
    "\n",
    "### Coding\n",
    "[`Coding`](https://www.hl7.org/fhir/datatypes.html#Coding) is a general purpose datatype that builds on top of `code`. A `Coding` is a representaton of a defined concept using a symbol from a defined code system. `Coding` includes fields for `code`, the code `system` it comes from, the `version` of the system, a human-readable `display`, and `userSelected` to indicate if this coding was chosen directly by the user. An example `Coding`:\n",
    "\n",
    "```\n",
    "{\n",
    "  \"system\": \"http://snomed.info/sct\",\n",
    "  \"code\": \"444814009\",\n",
    "  \"display\": \"Viral sinusitis (disorder)\"\n",
    "}\n",
    "```\n",
    "\n",
    "### CodeableConcept\n",
    "[`CodeableConcept`](https://www.hl7.org/fhir/datatypes.html#CodeableConcept) is a general purpose datatype builds further on top of `Coding`. A `CodeableConcept` represents a value that is usually supplied by providing a reference to one or more terminologies or ontologies but may also be defined by the provision of text. Most resources that are defined by specific clinical concepts will include a `CodeableConcept` type field.\n",
    "`CodeableConcept` includes fields for an array of `coding`s and optional `text`.\n",
    "\n",
    "\n",
    "An example `CodeableConcept`:\n",
    "```\n",
    "{\n",
    "    \"coding\": [\n",
    "        {\n",
    "            \"system\": \"http://snomed.info/sct\",\n",
    "            \"code\": \"260385009\",\n",
    "            \"display\": \"Negative\"\n",
    "        }, {\n",
    "            \"system\": \"https://acme.lab/resultcodes\",\n",
    "            \"code\": \"NEG\",\n",
    "            \"display\": \"Negative\"\n",
    "        }\n",
    "    ],\n",
    "    \"text\": \"Negative for Chlamydia Trachomatis rRNA\"\n",
    "}\n",
    "```\n",
    "\n",
    "\n",
    "In this case all we really want is a consistent human-readable display, so let's get these into a DataFrame and map that `code` field into something appropriate.\n"
   ]
  },
  {
   "cell_type": "code",
   "execution_count": null,
   "id": "continuous-understanding",
   "metadata": {},
   "outputs": [],
   "source": [
    "conditions_df = pd.DataFrame(conditions)\n",
    "conditions_df.head()"
   ]
  },
  {
   "cell_type": "markdown",
   "id": "partial-slovakia",
   "metadata": {},
   "source": [
    "🖐 Fill in the `get_code` function to pick a human-readable description out of the `code` field.\n",
    "\n",
    "We'll use this function to define a new `description` column which we'll use to determine which conditions are the most prevalent.\n",
    "\n",
    "(Hint: the `code` field is a CodeableConcept -- look at the CodeableConcept spec to see what fields are optional and what are required. We'll be using this function throughout the exercise to parse CodeableConcepts.)"
   ]
  },
  {
   "cell_type": "code",
   "execution_count": null,
   "id": "wicked-japan",
   "metadata": {},
   "outputs": [],
   "source": [
    "def get_code(c):\n",
    "    if 'coding' in c:\n",
    "        if display in c['coding'][0]:\n",
    "            return c['coding'][0]['display']\n",
    "        elif 'text' in c:\n",
    "            return c['text']\n",
    "        else:\n",
    "            return c['coding'][0]['code']\n",
    "    \n",
    "    if 'text' in c:\n",
    "        return c['text']\n",
    "\n",
    "    return ''\n",
    "\n",
    "\n",
    "conditions_df['description'] = conditions_df['code'].map(lambda c: get_code(c))\n",
    "\n",
    "conditions_df.head()"
   ]
  },
  {
   "cell_type": "markdown",
   "id": "representative-candle",
   "metadata": {},
   "source": [
    "Now let's create a graph of the top 10 most prevalent conditions:"
   ]
  },
  {
   "cell_type": "code",
   "execution_count": null,
   "id": "imperial-broadcasting",
   "metadata": {},
   "outputs": [],
   "source": [
    "counts = conditions_df.groupby(['description']).count().reset_index()\n",
    "counts.rename(columns={'resourceType': 'count'}, inplace=True)\n",
    "\n",
    "counts = counts.sort_values('count', ascending=False).head(10)\n",
    "sns.barplot(data=counts, x='count', y='description')"
   ]
  },
  {
   "cell_type": "markdown",
   "id": "indie-gauge",
   "metadata": {},
   "source": [
    "### 2.2. Patients in the Research Study\n",
    "\n",
    "In the previous steps, we looked at just a random sampling of Conditions: the first 250 that the server happened to return. Now let's return to the Research Study and see how we can query for just those Conditions.\n",
    "\n",
    "\n",
    "One might expect we can just chain even further, for example:\n",
    "```\n",
    "/Condition?subject._has:ResearchSubject:individual:study=76758\n",
    "```\n",
    "However, that's not going to work here. (it seems to hang the entire server for about 2 minutes so we request you not to actually run it)\n",
    "\n",
    "\n",
    "Instead, let's combine two search concepts:\n",
    " - get the Patients by ResearchStudy, as we saw before (\"reverse chaining\")\n",
    " - include the Conditions that reference back to each Patient\n",
    "\n",
    "\n",
    "We've seen how to find a resource, based on another resource that references it, but we haven't yet seen how to include multiple resource types in a single search. This leads us to new search parameters we haven't seen before: `_include` and `_revinclude`. \n",
    "\n",
    "`_include` allows for including resources that the queried resource references out to. (For example, Condition references out to a Patient and Encounter)  \n",
    "`_revinclude` ie, \"reverse include\", allows for including resources that reference back to the queried resource. (For example, Patient is referenced by Condition)  \n",
    "\n",
    "These parameters specify a search parameter to search on, which includes 3 parts:\n",
    " - The name of the source resource where the reference field exists\n",
    " - The field name of the reference\n",
    " - (optionally) a specific type of target resource, for cases when multiple resource types are allowed.\n",
    " \n",
    "\n",
    "Some simple examples:\n",
    "\n",
    "```\n",
    "GET [base]/MedicationRequest?_include=MedicationRequest:patient\n",
    "GET [base]/MedicationRequest?_revinclude=Provenance:target\n",
    "```\n",
    "\n",
    "The first search requests all matching MedicationRequests, to include any patient that the medication prescriptions in the result set refer to. The second search requests all matching prescriptions, return all the provenance resources that refer to them. \n",
    "\n",
    "\n",
    "📘[Read more about including other resources in search results](https://www.hl7.org/fhir/search.html#include)\n",
    "\n",
    "\n",
    "🖐 Implement the query to select Patients within the ResearchStudy of interest and include their Conditions\n",
    "\n",
    "Reminder: the ResearchStudy id = **76758**"
   ]
  },
  {
   "cell_type": "code",
   "execution_count": null,
   "id": "median-stereo",
   "metadata": {},
   "outputs": [],
   "source": [
    "r = s.get(f\"{FHIR_SERVER}/Patient?_has:ResearchSubject:individual:study=76758&_revinclude=Condition:subject\")\n",
    "bundle = r.json()\n",
    "print_bundle(bundle)"
   ]
  },
  {
   "cell_type": "markdown",
   "id": "humanitarian-warrant",
   "metadata": {},
   "source": [
    "So this time we have 2 different resourceTypes in our results. Patients at the top of the Bundle and Conditions at the bottom. We don't actually need the Patient resources for this analysis, so let's filter to just the Conditions and re-use our functions from the previous step:"
   ]
  },
  {
   "cell_type": "code",
   "execution_count": null,
   "id": "rural-professor",
   "metadata": {},
   "outputs": [],
   "source": [
    "all_resources = list(map(lambda e: e['resource'], bundle['entry']))\n",
    "conditions = list(filter(lambda r: r['resourceType'] == 'Condition', all_resources))\n",
    "conditions_df = pd.DataFrame(conditions)\n",
    "conditions_df['description'] = conditions_df['code'].map(lambda c: get_code(c))\n",
    "counts = conditions_df.groupby(['description']).count().reset_index()\n",
    "counts.rename(columns={'resourceType': 'count'}, inplace=True)\n",
    "\n",
    "counts = counts.sort_values('count', ascending=False).head(10)\n",
    "sns.barplot(data=counts, x='count', y='description')"
   ]
  },
  {
   "cell_type": "markdown",
   "id": "personal-sharp",
   "metadata": {},
   "source": [
    "Now we have a more useful graph - the most common diagnoses among a research study cohort. (Note however that this represents only the first page of results from the server, not necessarily the entire cohort. Pagination, as seen in the previous exercise, may be necessary to fetch the entire cohort.)"
   ]
  },
  {
   "cell_type": "markdown",
   "id": "infectious-husband",
   "metadata": {},
   "source": [
    "## 3. Age at Diagnosis\n",
    "\n",
    "Our third step will be to see how we can recreate the Age at Diagnosis chart.\n",
    "\n",
    "To calculate age at diagnosis, we need two pieces of information:\n",
    " - Date of Birth\n",
    " - Date of Diagnosis  \n",
    "\n",
    "However in order to de-identify the data, Kids First has removed date of birth information from Patient resources. Instead they use relative dates via an extension.\n",
    "\n",
    "In FHIR these may be captured in different resources that we may need to cross-reference:\n",
    "\n",
    "- `Patient.birthDate`\n",
    "- `Condition.onset[x]`\n",
    "- `Condition.recordedDate`\n",
    "\n",
    "Let's take a look at how the Kids First server represents these important concepts"
   ]
  },
  {
   "cell_type": "markdown",
   "id": "initial-allowance",
   "metadata": {},
   "source": [
    "### 3.1. Diagnoses of a particular Condition\n",
    "\n",
    "Let's start by querying for Conditions of a given code. We'll stick with **MONDO:0021640** (grade III glioma) as our condition of interest.\n",
    "\n",
    "🖐 Fill in the query to select Conditions by this code\n",
    "\n",
    "Then we'll look at one instance to see what it contains."
   ]
  },
  {
   "cell_type": "code",
   "execution_count": null,
   "id": "acquired-mortality",
   "metadata": {},
   "outputs": [],
   "source": [
    "r = s.get(f\"{FHIR_SERVER}/Condition?code=MONDO:0021640\")\n",
    "bundle = r.json()\n",
    "pprint(bundle['entry'][0]['resource'])"
   ]
  },
  {
   "cell_type": "markdown",
   "id": "instrumental-symbol",
   "metadata": {},
   "source": [
    "What we see here is that the Condition has a `_recordedDate` field with an extension \"http://hl7.org/fhir/StructureDefinition/relative-date\", then nested below that are 3 sub-extensions representing the parts of a \"relative date\": \n",
    " - The event that this Condition is relative to\n",
    " - The relationship (before/after)\n",
    " - The numerical offset\n",
    " \n",
    "See more about the relative-date extension here: http://hl7.org/fhir/R4/extension-relative-date.html\n",
    " \n",
    " \n",
    "Now let's put this into a DataFrame:"
   ]
  },
  {
   "cell_type": "code",
   "execution_count": null,
   "id": "raised-assurance",
   "metadata": {},
   "outputs": [],
   "source": [
    "conditions = list(map(lambda e: e['resource'], bundle['entry']))\n",
    "conditions_df = pd.DataFrame(conditions)"
   ]
  },
  {
   "cell_type": "markdown",
   "id": "relative-journalist",
   "metadata": {},
   "source": [
    "And let's extract that into a single number that we can use for analysis.\n",
    "\n",
    "🖐 Write a function to parse the age of onset in days, out of the recordedDate extension.\n",
    "\n",
    "(Note: for data aggregated from multiple sources, you may encounter data in very different forms. For the dataset we are working with in this step, we can safely assume that all recordedDate extensions will be of this form if present: relative to birth, after birth, and recorded in days.)\n",
    "\n",
    "We'll use this function to map the condition into a new column for onset age in years. "
   ]
  },
  {
   "cell_type": "code",
   "execution_count": null,
   "id": "automatic-observer",
   "metadata": {},
   "outputs": [],
   "source": [
    "def get_age_of_onset(recordedDate):\n",
    "    return recordedDate['extension'][0]['extension'][2]['valueDuration']['value']\n",
    "\n",
    "conditions_df['onsetAgeInYears'] = conditions_df['_recordedDate'].map(lambda c: get_age_of_onset(c) // 365)\n",
    "\n",
    "conditions_df.head()"
   ]
  },
  {
   "cell_type": "markdown",
   "id": "collectible-great",
   "metadata": {},
   "source": [
    "Now let's graph the ages with a basic histogram:"
   ]
  },
  {
   "cell_type": "code",
   "execution_count": null,
   "id": "superb-deficit",
   "metadata": {},
   "outputs": [],
   "source": [
    "sns.histplot(data=conditions_df, x='onsetAgeInYears')"
   ]
  },
  {
   "cell_type": "markdown",
   "id": "inappropriate-gallery",
   "metadata": {},
   "source": [
    "### 3.2. Patients in the Research Study"
   ]
  },
  {
   "cell_type": "markdown",
   "id": "turned-stamp",
   "metadata": {},
   "source": [
    "Now let's go back to our selected Research Study and see how we can get the Conditions for those Patients in the study. We've seen before that doubly-nested references may not work, so instead we can combine multiple approaches as we saw in section 2.2, to fetch Patients by ResearchStudy, and then include their diagnosed Conditions.\n",
    "\n",
    "\n",
    "🖐 Fill in the query to select Patients in the ResearchStudy of interest, along with their Conditions.\n",
    "\n",
    "Reminder: the ResearchStudy id = **76758**"
   ]
  },
  {
   "cell_type": "code",
   "execution_count": null,
   "id": "heavy-acceptance",
   "metadata": {},
   "outputs": [],
   "source": [
    "r = s.get(f\"{FHIR_SERVER}/Patient?_has:ResearchSubject:individual:study=76758&_revinclude=Condition:subject\")\n",
    "bundle = r.json()\n",
    "print_bundle(bundle)"
   ]
  },
  {
   "cell_type": "markdown",
   "id": "systematic-walker",
   "metadata": {},
   "source": [
    "Now we can see in this Bundle we have both Patients and Conditions. We don't strictly need the Patient resources so let's filter down to just Conditions."
   ]
  },
  {
   "cell_type": "code",
   "execution_count": null,
   "id": "centered-appeal",
   "metadata": {},
   "outputs": [],
   "source": [
    "all_resources = list(map(lambda e: e['resource'], bundle['entry']))\n",
    "conditions = list(filter(lambda r: r['resourceType'] == 'Condition', all_resources))\n",
    "conditions_df = pd.DataFrame(conditions)\n",
    "conditions_df.head()"
   ]
  },
  {
   "cell_type": "markdown",
   "id": "dangerous-cyprus",
   "metadata": {},
   "source": [
    "What we may notice though is that not all of these Conditions contain a recordedDate, so for this step we'll filter to only those that do."
   ]
  },
  {
   "cell_type": "code",
   "execution_count": null,
   "id": "tutorial-alignment",
   "metadata": {},
   "outputs": [],
   "source": [
    "conditions_df.dropna(subset=['_recordedDate'], inplace=True)\n",
    "conditions_df.head()"
   ]
  },
  {
   "cell_type": "markdown",
   "id": "european-routine",
   "metadata": {},
   "source": [
    "And then we can run the same steps as previously to convert the column, and graph the results."
   ]
  },
  {
   "cell_type": "code",
   "execution_count": null,
   "id": "nuclear-simon",
   "metadata": {},
   "outputs": [],
   "source": [
    "conditions_df['onsetAgeInYears'] = conditions_df['_recordedDate'].map(lambda c: get_age_of_onset(c) // 365)\n",
    "sns.histplot(data=conditions_df, x='onsetAgeInYears')"
   ]
  },
  {
   "cell_type": "markdown",
   "id": "stuffed-sector",
   "metadata": {},
   "source": [
    "## 4. Overall Survival"
   ]
  },
  {
   "cell_type": "markdown",
   "id": "convenient-brake",
   "metadata": {},
   "source": [
    "### 4.1. Patients in the Research Study"
   ]
  },
  {
   "cell_type": "markdown",
   "id": "perfect-terry",
   "metadata": {},
   "source": [
    "Our final step in this exercise will be to reproduce the Overall Survival graph. The data requirements for this graph build on top of the previous steps, so now we need to know the relationship between date of death, or last recorded survival, and date of onset.\n",
    "\n",
    "As before, Kids First data has been deidentified so there generally are no absolute dates, but relative dates are enough as long as there is a common reference point. Fortunately most of KF uses dates relative to birth or enrollment into a clinical trial.\n",
    "\n",
    "First let's see how KF reports death information. One possibility is in the `Patient.deceased[x]` field, so let's see if anything on the server has that populated."
   ]
  },
  {
   "cell_type": "code",
   "execution_count": null,
   "id": "delayed-plymouth",
   "metadata": {},
   "outputs": [],
   "source": [
    "r = s.get(f\"{FHIR_SERVER}/Patient?deceased=true\")\n",
    "bundle = r.json()\n",
    "print_bundle(bundle)"
   ]
  },
  {
   "cell_type": "markdown",
   "id": "expected-cannon",
   "metadata": {},
   "source": [
    "Looks like that's a no. That's fine, there are other options. We'll spare the reader the full exploration process, but we know that in this case, Clinical Status of \"Alive\" or \"Dead\" is captured as an Observation with SNOMED code \"263493007\". Observations can be thought of as a clinical question of sorts, where the question is captured as the `code` and the answer is captured as the `value`.\n",
    "\n",
    "📘 [Read more about the Observation resource](https://www.hl7.org/fhir/observation.html)\n",
    "\n",
    "\n",
    "Let's look at an example of one of these:"
   ]
  },
  {
   "cell_type": "code",
   "execution_count": null,
   "id": "minimal-porcelain",
   "metadata": {},
   "outputs": [],
   "source": [
    "r = s.get(f\"{FHIR_SERVER}/Observation?code=263493007&_count=1\")\n",
    "bundle = r.json()\n",
    "print_bundle(bundle)"
   ]
  },
  {
   "cell_type": "markdown",
   "id": "worse-norman",
   "metadata": {},
   "source": [
    "Like with the Condition resources in previous examples, we see an `_effectiveDate` with extensions describing a date relative to birth. There's our common reference point, so let's gather all our data and put it together.\n",
    "\n",
    "In this case, we want Patients, Conditions, and Observations. There are multiple possible approaches we could take here. One possible approach is to make 1 query to find Patients, 1 query to find all Conditions, then 1 query to find all Observations, then join the results and drop any mismatches. In this case let's see if we can do it in one single query.\n",
    "\n",
    "\n",
    "🖐 Fill in the query to fetch Patients, Conditions, and Observations, for Patients in our ResearchStudy of interest.\n",
    "\n",
    "Reminder: the ResearchStudy id = **76758**"
   ]
  },
  {
   "cell_type": "code",
   "execution_count": null,
   "id": "functioning-lindsay",
   "metadata": {},
   "outputs": [],
   "source": [
    "r = s.get(f\"{FHIR_SERVER}/Patient?_has:ResearchSubject:individual:study=76758&_revinclude=Condition:subject&_revinclude=Observation:subject\")\n",
    "bundle = r.json()\n",
    "print_bundle(bundle)"
   ]
  },
  {
   "cell_type": "markdown",
   "id": "proud-bradford",
   "metadata": {},
   "source": [
    "Note that this query we just ran selected ALL Conditions and Observations linked to the selected Patients. If we need to filter the results further, we can only do that by post-processing and not within the FHIR query itself.\n",
    "Fortunately there only appears to be one Observation per Patient in this dataset, so there is no need to filter further.\n",
    "\n",
    "\n",
    "Let's break this Bundle out into separate lists for the 3 resourceTypes, and then turn them into DataFrames.\n",
    "\n",
    "We'll inspect the Observations DataFrame first because this is the first time we're seeing Observations."
   ]
  },
  {
   "cell_type": "code",
   "execution_count": null,
   "id": "oriented-minimum",
   "metadata": {},
   "outputs": [],
   "source": [
    "all_resources = list(map(lambda e: e['resource'], bundle['entry']))\n",
    "patients = list(filter(lambda r: r['resourceType'] == 'Patient', all_resources))\n",
    "conditions = list(filter(lambda r: r['resourceType'] == 'Condition', all_resources))\n",
    "observations = list(filter(lambda r: r['resourceType'] == 'Observation', all_resources))\n",
    "\n",
    "patients_df = pd.DataFrame(patients)\n",
    "conditions_df = pd.DataFrame(conditions)\n",
    "observations_df = pd.DataFrame(observations)\n",
    "\n",
    "observations_df.head()"
   ]
  },
  {
   "cell_type": "markdown",
   "id": "derived-filter",
   "metadata": {},
   "source": [
    "To calculate survival, we have to get subtract onset date from the latest clinical status date (Observation).\n",
    "As with Condition `_recordedDate`, these Observations use a relative date via an extension on `_effectiveDateTime`.\n",
    "\n",
    "Let's break that out into a single number. Fortunately the format is exactly the same as before, so we can reuse the same function we defined earlier."
   ]
  },
  {
   "cell_type": "code",
   "execution_count": null,
   "id": "aquatic-foster",
   "metadata": {},
   "outputs": [],
   "source": [
    "observations_df.dropna(subset=['_effectiveDateTime'], inplace=True)\n",
    "observations_df['effectiveAgeDays'] = observations_df['_effectiveDateTime'].map(lambda c: get_age_of_onset(c))\n",
    "\n",
    "observations_df.head()"
   ]
  },
  {
   "cell_type": "markdown",
   "id": "nonprofit-wholesale",
   "metadata": {},
   "source": [
    "Then do the same to Conditions, again in the `_recordedDate` field\n"
   ]
  },
  {
   "cell_type": "code",
   "execution_count": null,
   "id": "conscious-tenant",
   "metadata": {},
   "outputs": [],
   "source": [
    "conditions_df.dropna(subset=['_recordedDate'], inplace=True)\n",
    "conditions_df['onsetAgeDays'] = conditions_df['_recordedDate'].map(lambda c: get_age_of_onset(c))\n",
    "\n",
    "conditions_df.head()"
   ]
  },
  {
   "cell_type": "markdown",
   "id": "pointed-quarterly",
   "metadata": {},
   "source": [
    "We're going to have to join these two together, so let's clean the patient ID references to be strings rather than dicts.\n",
    "\n",
    "From:\n",
    "```\n",
    "reference: { reference: \"Patient/1234\" }\n",
    "```\n",
    "\n",
    "To:\n",
    "```\n",
    "reference: 1234\n",
    "```"
   ]
  },
  {
   "cell_type": "code",
   "execution_count": null,
   "id": "proper-cisco",
   "metadata": {},
   "outputs": [],
   "source": [
    "def reference_to_id(reference):\n",
    "    reference = reference['reference']\n",
    "    if '/' in reference:\n",
    "        idx = reference.index('/')\n",
    "        return reference[idx+1:]\n",
    "    else:\n",
    "        return reference"
   ]
  },
  {
   "cell_type": "code",
   "execution_count": null,
   "id": "hindu-burst",
   "metadata": {},
   "outputs": [],
   "source": [
    "conditions_df['patientId'] = conditions_df['subject'].map(reference_to_id)\n",
    "conditions_df.head()"
   ]
  },
  {
   "cell_type": "code",
   "execution_count": null,
   "id": "handled-advocacy",
   "metadata": {},
   "outputs": [],
   "source": [
    "observations_df['patientId'] = observations_df['subject'].map(reference_to_id)\n",
    "observations_df.head()"
   ]
  },
  {
   "cell_type": "markdown",
   "id": "chicken-partner",
   "metadata": {},
   "source": [
    "Now let's join the observations and conditions together on patient ID"
   ]
  },
  {
   "cell_type": "code",
   "execution_count": null,
   "id": "silent-currency",
   "metadata": {},
   "outputs": [],
   "source": [
    "obs_conds_df = conditions_df.join(observations_df.set_index('patientId'), on='patientId', lsuffix='_c', rsuffix='_o')\n",
    "\n",
    "obs_conds_df.head()"
   ]
  },
  {
   "cell_type": "markdown",
   "id": "amber-roman",
   "metadata": {},
   "source": [
    "Now we have 2 columns representing the age of condition onset from birth in days, and the age of last recorded survival. We can calculate length of survival as the difference of these 2 columns."
   ]
  },
  {
   "cell_type": "code",
   "execution_count": null,
   "id": "sacred-boston",
   "metadata": {},
   "outputs": [],
   "source": [
    "obs_conds_df['survivalDays'] = obs_conds_df['effectiveAgeDays'] - obs_conds_df['onsetAgeDays']\n",
    "\n",
    "obs_conds_df.head()\n"
   ]
  },
  {
   "cell_type": "markdown",
   "id": "flying-franklin",
   "metadata": {},
   "source": [
    "Finally we can calculate the % survival at each duration to graph the survival rate over time. (There may be better ways to do this, but hopefully this code is fairly clear as to the intent)"
   ]
  },
  {
   "cell_type": "code",
   "execution_count": null,
   "id": "overhead-imaging",
   "metadata": {},
   "outputs": [],
   "source": [
    "durations = obs_conds_df.sort_values('survivalDays')['survivalDays'].unique()\n",
    "\n",
    "total = len(obs_conds_df)\n",
    "\n",
    "survival_df = pd.DataFrame(columns=['days','survivalRate'], dtype=np.number)\n",
    "\n",
    "for day in durations:\n",
    "    num_surviving_at_day = (obs_conds_df['survivalDays'] >= day).sum()\n",
    "    survival_rate = num_surviving_at_day / total\n",
    "    survival_df = survival_df.append({'days': day, 'survivalRate': survival_rate}, ignore_index=True)\n",
    "\n",
    "sns.lineplot(data=survival_df, x='days', y='survivalRate')"
   ]
  },
  {
   "cell_type": "markdown",
   "id": "productive-amplifier",
   "metadata": {},
   "source": [
    "## Summary\n",
    "\n",
    "Well done! We've just walked through eight different sample queries to build out content for four fundamental concepts. \n"
   ]
  }
 ],
 "metadata": {
  "kernelspec": {
   "display_name": "Python 3",
   "language": "python",
   "name": "python3"
  },
  "language_info": {
   "codemirror_mode": {
    "name": "ipython",
    "version": 3
   },
   "file_extension": ".py",
   "mimetype": "text/x-python",
   "name": "python",
   "nbconvert_exporter": "python",
   "pygments_lexer": "ipython3",
   "version": "3.9.2"
  }
 },
 "nbformat": 4,
 "nbformat_minor": 5
}
