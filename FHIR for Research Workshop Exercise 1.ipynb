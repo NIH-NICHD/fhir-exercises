{
 "cells": [
  {
   "cell_type": "markdown",
   "metadata": {},
   "source": [
    "# FHIR for Research Workshop"
   ]
  },
  {
   "cell_type": "markdown",
   "metadata": {},
   "source": [
    "## Exercise 1 "
   ]
  },
  {
   "cell_type": "markdown",
   "metadata": {},
   "source": [
    "Intro: see https://github.com/NIH-NCPI/fhir-101/blob/master/FHIR%20101%20-%20Practical%20Guide.ipynb as a great example\n",
    "\n",
    "## What is this notebook?\n",
    "\n",
    "(common overview of the FHIR Training)\n",
    "\n",
    "(overview of this specific notebook)\n",
    "\n",
    "\n",
    "\n",
    "\n",
    "### Icons in this Guide\n",
    " 📘 A link to a useful external reference related to the section the icon appears in  \n",
    "\n",
    " ⚡️ A key takeaway for the section that this icon appears in  \n",
    "\n",
    " 🖐 A hands-on section where you will code something or interact with the server  \n",
    "\n",
    "\n",
    "(any required MITRE legalese should either go here or at the very bottom of the notebook)"
   ]
  },
  {
   "cell_type": "markdown",
   "metadata": {},
   "source": [
    "## Motivation / Purpose"
   ]
  },
  {
   "cell_type": "markdown",
   "metadata": {},
   "source": [
    "## Scenario\n",
    "\n",
    "(this section describes the specifics of the use case: what is the problem statement, what is the basic approach we are going to take, etc)\n"
   ]
  },
  {
   "cell_type": "markdown",
   "metadata": {},
   "source": [
    "## Initial Setup"
   ]
  },
  {
   "cell_type": "code",
   "execution_count": 1,
   "metadata": {},
   "outputs": [],
   "source": [
    "# import any required libraries here.\n",
    "#  - requests\n",
    "#  - fhirclient: https://github.com/smart-on-fhir/client-py\n",
    "#  - Pandas - DataFrames\n",
    "#  - NumPy - basic data analysis\n",
    "#  - matplotlib\n",
    "#  - maybe seaborn for viz on top of matplotlib ?"
   ]
  },
  {
   "cell_type": "markdown",
   "metadata": {},
   "source": [
    "## Step 1 Connect to Client"
   ]
  },
  {
   "cell_type": "markdown",
   "metadata": {},
   "source": [
    "sync to source server for data extraction"
   ]
  },
  {
   "cell_type": "code",
   "execution_count": null,
   "metadata": {},
   "outputs": [],
   "source": []
  },
  {
   "cell_type": "markdown",
   "metadata": {},
   "source": [
    "## Step 2 Query Data"
   ]
  },
  {
   "cell_type": "markdown",
   "metadata": {},
   "source": [
    "Submit query to source and retreive data. Save it locally"
   ]
  },
  {
   "cell_type": "code",
   "execution_count": null,
   "metadata": {},
   "outputs": [],
   "source": []
  },
  {
   "cell_type": "markdown",
   "metadata": {},
   "source": [
    "## Step 3 Mount Data onto Pandas Dataframe"
   ]
  },
  {
   "cell_type": "markdown",
   "metadata": {},
   "source": [
    "Take FHIR formatted data and convert it to a pandas dataframe for subsequent analysis."
   ]
  },
  {
   "cell_type": "markdown",
   "metadata": {},
   "source": [
    "This resource seems like a good one! https://github.com/dermatologist/fhiry"
   ]
  },
  {
   "cell_type": "code",
   "execution_count": 2,
   "metadata": {},
   "outputs": [],
   "source": [
    "#fhir.py document\n",
    "from pandas.io.json import json_normalize\n",
    "import pandas as pd\n",
    "import json\n",
    "import os\n",
    "\n",
    "\n",
    "class Fhiry(object):\n",
    "    def __init__(self):\n",
    "        self._df = None\n",
    "        self._filename = \"\"\n",
    "        self._folder = \"\"\n",
    "\n",
    "    @property\n",
    "    def df(self):\n",
    "        return self._df\n",
    "\n",
    "    @property\n",
    "    def filename(self):\n",
    "        return self._filename\n",
    "\n",
    "    @property\n",
    "    def folder(self):\n",
    "        return self._folder\n",
    "\n",
    "    @filename.setter\n",
    "    def filename(self, filename):\n",
    "        self._filename = filename\n",
    "        self._df = self.read_bundle_from_file(filename)\n",
    "\n",
    "    @folder.setter\n",
    "    def folder(self, folder):\n",
    "        self._folder = folder\n",
    "\n",
    "    def read_bundle_from_file(self, filename):\n",
    "        with open(filename, 'r') as f:\n",
    "            json_in = f.read()\n",
    "            json_in = json.loads(json_in)\n",
    "            return json_normalize(json_in['entry'])\n",
    "\n",
    "    def delete_unwanted_cols(self):\n",
    "        del self._df['resource.text.div']\n",
    "\n",
    "    def process_df(self):\n",
    "        \"\"\"Read a single JSON resource or a directory full of JSON resources\n",
    "        ONLY COMMON FIELDS IN ALL resources will be mapped\n",
    "        \"\"\"\n",
    "        if self._folder:\n",
    "            df = pd.DataFrame(columns=[])\n",
    "            for file in os.listdir(self._folder):\n",
    "                if file.endswith(\".json\"):\n",
    "                    self._df = self.read_bundle_from_file(\n",
    "                        os.path.join(self._folder, file))\n",
    "                    self.delete_unwanted_cols()\n",
    "                    self.convert_object_to_list()\n",
    "                    self.add_patient_id()\n",
    "                    if df.empty:\n",
    "                        df = self._df\n",
    "                    else:\n",
    "                        df = pd.concat([df, self._df])\n",
    "            self._df = df\n",
    "        elif self._filename:\n",
    "            self._df = self.read_bundle_from_file(self._filename)\n",
    "            self.delete_unwanted_cols()\n",
    "            self.convert_object_to_list()\n",
    "            self.add_patient_id()\n",
    "\n",
    "    def process_file(self, filename):\n",
    "        self._df = self.read_bundle_from_file(filename)\n",
    "        self.delete_unwanted_cols()\n",
    "        self.convert_object_to_list()\n",
    "        self.add_patient_id()\n",
    "        return self._df\n",
    "\n",
    "    def convert_object_to_list(self):\n",
    "        \"\"\"Convert object to a list of codes\n",
    "        \"\"\"\n",
    "        for col in self._df.columns:\n",
    "            if 'coding' in col:\n",
    "                codes = self._df.apply(\n",
    "                    lambda x: self.process_list(x[col]), axis=1)\n",
    "                self._df = pd.concat(\n",
    "                    [self._df, codes.to_frame(name=col+'codes')], 1)\n",
    "                del self._df[col]\n",
    "            if 'display' in col:\n",
    "                codes = self._df.apply(\n",
    "                    lambda x: self.process_list(x[col]), axis=1)\n",
    "                self._df = pd.concat(\n",
    "                    [self._df, codes.to_frame(name=col+'display')], 1)\n",
    "                del self._df[col]\n",
    "\n",
    "    def add_patient_id(self):\n",
    "        \"\"\"Create a patientId column with the resource.id of the first Patient resource\n",
    "        \"\"\"\n",
    "        self._df['patientId'] = self._df[(\n",
    "            self._df['resource.resourceType'] == \"Patient\")].iloc[0]['resource.id']\n",
    "\n",
    "    def get_info(self):\n",
    "        if self._df is None:\n",
    "            return \"Dataframe is empty\"\n",
    "        return self._df.info()\n",
    "\n",
    "    def process_list(self, myList):\n",
    "        \"\"\"Extracts the codes from a list of objects\n",
    "        Args:\n",
    "            myList (list): A list of objects\n",
    "        Returns:\n",
    "            list: A list of codes\n",
    "        \"\"\"\n",
    "        myCodes = []\n",
    "        if isinstance(myList, list):\n",
    "            for entry in myList:\n",
    "                if 'code' in entry:\n",
    "                    myCodes.append(entry['code'])\n",
    "                else:\n",
    "                    myCodes.append(entry['display'])\n",
    "        return myCodes"
   ]
  },
  {
   "cell_type": "code",
   "execution_count": 3,
   "metadata": {},
   "outputs": [],
   "source": [
    "# parallel file\n",
    "#from fhiry import Fhiry, Fhirndjson\n",
    "import os\n",
    "import multiprocessing as mp\n",
    "import pandas as pd\n",
    "from pandas.io.json import json_normalize\n",
    "\n",
    "\n",
    "def process_files(file):\n",
    "    f = Fhiry()\n",
    "    return f.process_file(file)\n",
    "\n",
    "\n",
    "def process_ndjson(file):\n",
    "    f = Fhirndjson()\n",
    "    return f.process_file(file)\n",
    "\n",
    "def process1(folder):\n",
    "    # TODO: Fix the below error when ? folder has few files\n",
    "    # Currently falls back when it fails\n",
    "    # json.decoder.JSONDecodeError: Expecting value: line 1 column 1 (char 0)\n",
    "    try:\n",
    "        pool = mp.Pool(mp.cpu_count())\n",
    "        list_of_dataframes = pool.map(process_files, [folder + '/' + row for row in os.listdir(folder)])\n",
    "        pool.close()\n",
    "        return pd.concat(list_of_dataframes)\n",
    "    except:\n",
    "        f = Fhiry()\n",
    "        f.folder = folder\n",
    "        f.process_df()\n",
    "        return f.df\n",
    "\n",
    "\n",
    "def ndjson(folder):\n",
    "    # TODO: Fix the below error when ? folder has few files\n",
    "    # Currently falls back when it fails\n",
    "    # json.decoder.JSONDecodeError: Expecting value: line 1 column 1 (char 0)\n",
    "    try:\n",
    "        pool = mp.Pool(mp.cpu_count())\n",
    "        list_of_dataframes = pool.map(\n",
    "            process_ndjson, [folder + '/' + row for row in os.listdir(folder)])\n",
    "        pool.close()\n",
    "        return pd.concat(list_of_dataframes)\n",
    "    except:\n",
    "        f = Fhirndjson()\n",
    "        f.folder = folder\n",
    "        f.process_df()\n",
    "        return f.df"
   ]
  },
  {
   "cell_type": "code",
   "execution_count": 4,
   "metadata": {},
   "outputs": [
    {
     "name": "stdout",
     "output_type": "stream",
     "text": [
      "<class 'pandas.core.frame.DataFrame'>\n",
      "Int64Index: 1862 entries, 0 to 422\n",
      "Columns: 110 entries, fullUrl to resource.verificationStatus.codingcodes\n",
      "dtypes: float64(5), object(105)\n",
      "memory usage: 1.6+ MB\n"
     ]
    },
    {
     "name": "stderr",
     "output_type": "stream",
     "text": [
      "/opt/anaconda3/lib/python3.7/site-packages/ipykernel_launcher.py:26: FutureWarning: Sorting because non-concatenation axis is not aligned. A future version\n",
      "of pandas will change to not sort by default.\n",
      "\n",
      "To accept the future behavior, pass 'sort=False'.\n",
      "\n",
      "To retain the current behavior and silence the warning, pass 'sort=True'.\n",
      "\n"
     ]
    }
   ],
   "source": [
    "#import fhiry.parallel as fp\n",
    "df = process1('fhir-test')\n",
    "df.info()"
   ]
  },
  {
   "cell_type": "code",
   "execution_count": 5,
   "metadata": {},
   "outputs": [
    {
     "data": {
      "text/plain": [
       "Index(['fullUrl', 'patientId', 'request.method', 'request.url',\n",
       "       'resource.abatementDateTime', 'resource.achievementStatus.codingcodes',\n",
       "       'resource.active', 'resource.activity', 'resource.address',\n",
       "       'resource.addresses',\n",
       "       ...\n",
       "       'resource.use', 'resource.vaccineCode.codingcodes',\n",
       "       'resource.vaccineCode.text',\n",
       "       'resource.valueCodeableConcept.codingcodes',\n",
       "       'resource.valueCodeableConcept.text', 'resource.valueQuantity.code',\n",
       "       'resource.valueQuantity.system', 'resource.valueQuantity.unit',\n",
       "       'resource.valueQuantity.value',\n",
       "       'resource.verificationStatus.codingcodes'],\n",
       "      dtype='object', length=110)"
      ]
     },
     "execution_count": 5,
     "metadata": {},
     "output_type": "execute_result"
    }
   ],
   "source": [
    "df.columns"
   ]
  },
  {
   "cell_type": "code",
   "execution_count": 6,
   "metadata": {},
   "outputs": [
    {
     "data": {
      "text/html": [
       "<div>\n",
       "<style scoped>\n",
       "    .dataframe tbody tr th:only-of-type {\n",
       "        vertical-align: middle;\n",
       "    }\n",
       "\n",
       "    .dataframe tbody tr th {\n",
       "        vertical-align: top;\n",
       "    }\n",
       "\n",
       "    .dataframe thead th {\n",
       "        text-align: right;\n",
       "    }\n",
       "</style>\n",
       "<table border=\"1\" class=\"dataframe\">\n",
       "  <thead>\n",
       "    <tr style=\"text-align: right;\">\n",
       "      <th></th>\n",
       "      <th>fullUrl</th>\n",
       "      <th>patientId</th>\n",
       "      <th>request.method</th>\n",
       "      <th>request.url</th>\n",
       "      <th>resource.abatementDateTime</th>\n",
       "      <th>resource.achievementStatus.codingcodes</th>\n",
       "      <th>resource.active</th>\n",
       "      <th>resource.activity</th>\n",
       "      <th>resource.address</th>\n",
       "      <th>resource.addresses</th>\n",
       "      <th>...</th>\n",
       "      <th>resource.use</th>\n",
       "      <th>resource.vaccineCode.codingcodes</th>\n",
       "      <th>resource.vaccineCode.text</th>\n",
       "      <th>resource.valueCodeableConcept.codingcodes</th>\n",
       "      <th>resource.valueCodeableConcept.text</th>\n",
       "      <th>resource.valueQuantity.code</th>\n",
       "      <th>resource.valueQuantity.system</th>\n",
       "      <th>resource.valueQuantity.unit</th>\n",
       "      <th>resource.valueQuantity.value</th>\n",
       "      <th>resource.verificationStatus.codingcodes</th>\n",
       "    </tr>\n",
       "  </thead>\n",
       "  <tbody>\n",
       "    <tr>\n",
       "      <td>0</td>\n",
       "      <td>urn:uuid:b426b062-8273-4b93-a907-de3176c0567d</td>\n",
       "      <td>b426b062-8273-4b93-a907-de3176c0567d</td>\n",
       "      <td>POST</td>\n",
       "      <td>Patient</td>\n",
       "      <td>NaN</td>\n",
       "      <td>NaN</td>\n",
       "      <td>NaN</td>\n",
       "      <td>NaN</td>\n",
       "      <td>[{'extension': [{'url': 'http://hl7.org/fhir/S...</td>\n",
       "      <td>NaN</td>\n",
       "      <td>...</td>\n",
       "      <td>NaN</td>\n",
       "      <td>[]</td>\n",
       "      <td>NaN</td>\n",
       "      <td>[]</td>\n",
       "      <td>NaN</td>\n",
       "      <td>NaN</td>\n",
       "      <td>NaN</td>\n",
       "      <td>NaN</td>\n",
       "      <td>NaN</td>\n",
       "      <td>[]</td>\n",
       "    </tr>\n",
       "    <tr>\n",
       "      <td>1</td>\n",
       "      <td>urn:uuid:fc0bcb63-569b-3658-aa03-71cf89aea64e</td>\n",
       "      <td>b426b062-8273-4b93-a907-de3176c0567d</td>\n",
       "      <td>POST</td>\n",
       "      <td>Organization</td>\n",
       "      <td>NaN</td>\n",
       "      <td>NaN</td>\n",
       "      <td>True</td>\n",
       "      <td>NaN</td>\n",
       "      <td>[{'line': ['563 BROADWAY'], 'city': 'EVERETT',...</td>\n",
       "      <td>NaN</td>\n",
       "      <td>...</td>\n",
       "      <td>NaN</td>\n",
       "      <td>[]</td>\n",
       "      <td>NaN</td>\n",
       "      <td>[]</td>\n",
       "      <td>NaN</td>\n",
       "      <td>NaN</td>\n",
       "      <td>NaN</td>\n",
       "      <td>NaN</td>\n",
       "      <td>NaN</td>\n",
       "      <td>[]</td>\n",
       "    </tr>\n",
       "    <tr>\n",
       "      <td>2</td>\n",
       "      <td>urn:uuid:0000016d-3a85-4cca-0000-000000000636</td>\n",
       "      <td>b426b062-8273-4b93-a907-de3176c0567d</td>\n",
       "      <td>POST</td>\n",
       "      <td>Practitioner</td>\n",
       "      <td>NaN</td>\n",
       "      <td>NaN</td>\n",
       "      <td>True</td>\n",
       "      <td>NaN</td>\n",
       "      <td>[{'line': ['563 BROADWAY'], 'city': 'EVERETT',...</td>\n",
       "      <td>NaN</td>\n",
       "      <td>...</td>\n",
       "      <td>NaN</td>\n",
       "      <td>[]</td>\n",
       "      <td>NaN</td>\n",
       "      <td>[]</td>\n",
       "      <td>NaN</td>\n",
       "      <td>NaN</td>\n",
       "      <td>NaN</td>\n",
       "      <td>NaN</td>\n",
       "      <td>NaN</td>\n",
       "      <td>[]</td>\n",
       "    </tr>\n",
       "    <tr>\n",
       "      <td>3</td>\n",
       "      <td>urn:uuid:d051d64b-5b2f-4465-92c3-4e693d54f653</td>\n",
       "      <td>b426b062-8273-4b93-a907-de3176c0567d</td>\n",
       "      <td>POST</td>\n",
       "      <td>Encounter</td>\n",
       "      <td>NaN</td>\n",
       "      <td>NaN</td>\n",
       "      <td>NaN</td>\n",
       "      <td>NaN</td>\n",
       "      <td>NaN</td>\n",
       "      <td>NaN</td>\n",
       "      <td>...</td>\n",
       "      <td>NaN</td>\n",
       "      <td>[]</td>\n",
       "      <td>NaN</td>\n",
       "      <td>[]</td>\n",
       "      <td>NaN</td>\n",
       "      <td>NaN</td>\n",
       "      <td>NaN</td>\n",
       "      <td>NaN</td>\n",
       "      <td>NaN</td>\n",
       "      <td>[]</td>\n",
       "    </tr>\n",
       "    <tr>\n",
       "      <td>4</td>\n",
       "      <td>urn:uuid:5cd46965-1cb3-47dd-a2e3-fb2581b981da</td>\n",
       "      <td>b426b062-8273-4b93-a907-de3176c0567d</td>\n",
       "      <td>POST</td>\n",
       "      <td>Observation</td>\n",
       "      <td>NaN</td>\n",
       "      <td>NaN</td>\n",
       "      <td>NaN</td>\n",
       "      <td>NaN</td>\n",
       "      <td>NaN</td>\n",
       "      <td>NaN</td>\n",
       "      <td>...</td>\n",
       "      <td>NaN</td>\n",
       "      <td>[]</td>\n",
       "      <td>NaN</td>\n",
       "      <td>[]</td>\n",
       "      <td>NaN</td>\n",
       "      <td>cm</td>\n",
       "      <td>http://unitsofmeasure.org</td>\n",
       "      <td>cm</td>\n",
       "      <td>117.946892</td>\n",
       "      <td>[]</td>\n",
       "    </tr>\n",
       "  </tbody>\n",
       "</table>\n",
       "<p>5 rows × 110 columns</p>\n",
       "</div>"
      ],
      "text/plain": [
       "                                         fullUrl  \\\n",
       "0  urn:uuid:b426b062-8273-4b93-a907-de3176c0567d   \n",
       "1  urn:uuid:fc0bcb63-569b-3658-aa03-71cf89aea64e   \n",
       "2  urn:uuid:0000016d-3a85-4cca-0000-000000000636   \n",
       "3  urn:uuid:d051d64b-5b2f-4465-92c3-4e693d54f653   \n",
       "4  urn:uuid:5cd46965-1cb3-47dd-a2e3-fb2581b981da   \n",
       "\n",
       "                              patientId request.method   request.url  \\\n",
       "0  b426b062-8273-4b93-a907-de3176c0567d           POST       Patient   \n",
       "1  b426b062-8273-4b93-a907-de3176c0567d           POST  Organization   \n",
       "2  b426b062-8273-4b93-a907-de3176c0567d           POST  Practitioner   \n",
       "3  b426b062-8273-4b93-a907-de3176c0567d           POST     Encounter   \n",
       "4  b426b062-8273-4b93-a907-de3176c0567d           POST   Observation   \n",
       "\n",
       "  resource.abatementDateTime resource.achievementStatus.codingcodes  \\\n",
       "0                        NaN                                    NaN   \n",
       "1                        NaN                                    NaN   \n",
       "2                        NaN                                    NaN   \n",
       "3                        NaN                                    NaN   \n",
       "4                        NaN                                    NaN   \n",
       "\n",
       "  resource.active resource.activity  \\\n",
       "0             NaN               NaN   \n",
       "1            True               NaN   \n",
       "2            True               NaN   \n",
       "3             NaN               NaN   \n",
       "4             NaN               NaN   \n",
       "\n",
       "                                    resource.address resource.addresses  ...  \\\n",
       "0  [{'extension': [{'url': 'http://hl7.org/fhir/S...                NaN  ...   \n",
       "1  [{'line': ['563 BROADWAY'], 'city': 'EVERETT',...                NaN  ...   \n",
       "2  [{'line': ['563 BROADWAY'], 'city': 'EVERETT',...                NaN  ...   \n",
       "3                                                NaN                NaN  ...   \n",
       "4                                                NaN                NaN  ...   \n",
       "\n",
       "  resource.use resource.vaccineCode.codingcodes resource.vaccineCode.text  \\\n",
       "0          NaN                               []                       NaN   \n",
       "1          NaN                               []                       NaN   \n",
       "2          NaN                               []                       NaN   \n",
       "3          NaN                               []                       NaN   \n",
       "4          NaN                               []                       NaN   \n",
       "\n",
       "  resource.valueCodeableConcept.codingcodes  \\\n",
       "0                                        []   \n",
       "1                                        []   \n",
       "2                                        []   \n",
       "3                                        []   \n",
       "4                                        []   \n",
       "\n",
       "  resource.valueCodeableConcept.text resource.valueQuantity.code  \\\n",
       "0                                NaN                         NaN   \n",
       "1                                NaN                         NaN   \n",
       "2                                NaN                         NaN   \n",
       "3                                NaN                         NaN   \n",
       "4                                NaN                          cm   \n",
       "\n",
       "  resource.valueQuantity.system resource.valueQuantity.unit  \\\n",
       "0                           NaN                         NaN   \n",
       "1                           NaN                         NaN   \n",
       "2                           NaN                         NaN   \n",
       "3                           NaN                         NaN   \n",
       "4     http://unitsofmeasure.org                          cm   \n",
       "\n",
       "  resource.valueQuantity.value resource.verificationStatus.codingcodes  \n",
       "0                          NaN                                      []  \n",
       "1                          NaN                                      []  \n",
       "2                          NaN                                      []  \n",
       "3                          NaN                                      []  \n",
       "4                   117.946892                                      []  \n",
       "\n",
       "[5 rows x 110 columns]"
      ]
     },
     "execution_count": 6,
     "metadata": {},
     "output_type": "execute_result"
    }
   ],
   "source": [
    "df.head(5)"
   ]
  },
  {
   "cell_type": "code",
   "execution_count": 8,
   "metadata": {},
   "outputs": [
    {
     "data": {
      "text/plain": [
       "0    [{'extension': [{'url': 'http://hl7.org/fhir/S...\n",
       "1    [{'line': ['563 BROADWAY'], 'city': 'EVERETT',...\n",
       "2    [{'line': ['563 BROADWAY'], 'city': 'EVERETT',...\n",
       "3                                                  NaN\n",
       "4                                                  NaN\n",
       "Name: resource.address, dtype: object"
      ]
     },
     "execution_count": 8,
     "metadata": {},
     "output_type": "execute_result"
    }
   ],
   "source": [
    "df['resource.address'].head()"
   ]
  },
  {
   "cell_type": "code",
   "execution_count": 10,
   "metadata": {},
   "outputs": [
    {
     "data": {
      "text/plain": [
       "array(['b426b062-8273-4b93-a907-de3176c0567d',\n",
       "       '5cbc121b-cd71-4428-b8b7-31e53eba8184',\n",
       "       'adccf2c3-9dc4-4067-ba23-98982c4875da',\n",
       "       '31191928-6acb-4d73-931c-e601cc3a13fa',\n",
       "       '67816396-e325-496d-a6ec-c047756b7ce4',\n",
       "       '5c818f3d-7051-4b86-8203-1dc624a91804'], dtype=object)"
      ]
     },
     "execution_count": 10,
     "metadata": {},
     "output_type": "execute_result"
    }
   ],
   "source": [
    "df['patientId'].unique()"
   ]
  },
  {
   "cell_type": "markdown",
   "metadata": {},
   "source": [
    "## Step 4 Exploratory Data Analysis "
   ]
  },
  {
   "cell_type": "markdown",
   "metadata": {},
   "source": [
    "Conduct some limited, EDA for demonstration purposes."
   ]
  },
  {
   "cell_type": "code",
   "execution_count": null,
   "metadata": {},
   "outputs": [],
   "source": []
  },
  {
   "cell_type": "markdown",
   "metadata": {},
   "source": [
    "## Summary\n",
    "\n",
    "(A review of what was done in this notebook, possibly reinforcing how this kind of use case could be useful in the real world)"
   ]
  }
 ],
 "metadata": {
  "kernelspec": {
   "display_name": "Python 3",
   "language": "python",
   "name": "python3"
  },
  "language_info": {
   "codemirror_mode": {
    "name": "ipython",
    "version": 3
   },
   "file_extension": ".py",
   "mimetype": "text/x-python",
   "name": "python",
   "nbconvert_exporter": "python",
   "pygments_lexer": "ipython3",
   "version": "3.7.4"
  }
 },
 "nbformat": 4,
 "nbformat_minor": 5
}
