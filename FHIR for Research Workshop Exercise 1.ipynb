{
 "cells": [
  {
   "cell_type": "markdown",
   "metadata": {},
   "source": [
    "# FHIR for Research Workshop"
   ]
  },
  {
   "cell_type": "markdown",
   "metadata": {},
   "source": [
    "## Exercise 1 "
   ]
  },
  {
   "cell_type": "markdown",
   "metadata": {},
   "source": [
    "Intro: see https://github.com/NIH-NCPI/fhir-101/blob/master/FHIR%20101%20-%20Practical%20Guide.ipynb as a great example\n",
    "\n",
    "## What is this notebook?\n",
    "\n",
    "(common overview of the FHIR Training)\n",
    "\n",
    "(overview of this specific notebook)\n",
    "\n",
    "\n",
    "\n",
    "\n",
    "### Icons in this Guide\n",
    " 📘 A link to a useful external reference related to the section the icon appears in  \n",
    "\n",
    " ⚡️ A key takeaway for the section that this icon appears in  \n",
    "\n",
    " 🖐 A hands-on section where you will code something or interact with the server  \n",
    "\n",
    "\n",
    "(any required MITRE legalese should either go here or at the very bottom of the notebook)"
   ]
  },
  {
   "cell_type": "markdown",
   "metadata": {},
   "source": [
    "## Motivation / Purpose"
   ]
  },
  {
   "cell_type": "markdown",
   "metadata": {},
   "source": [
    "## Scenario\n",
    "\n",
    "(this section describes the specifics of the use case: what is the problem statement, what is the basic approach we are going to take, etc)\n"
   ]
  },
  {
   "cell_type": "markdown",
   "metadata": {},
   "source": [
    "## Initial Setup"
   ]
  },
  {
   "cell_type": "code",
   "execution_count": null,
   "metadata": {},
   "outputs": [],
   "source": [
    "# import any required libraries here.\n",
    "#  - requests\n",
    "#  - fhirclient: https://github.com/smart-on-fhir/client-py\n",
    "#  - Pandas - DataFrames\n",
    "#  - NumPy - basic data analysis\n",
    "#  - matplotlib\n",
    "#  - maybe seaborn for viz on top of matplotlib ?"
   ]
  },
  {
   "cell_type": "markdown",
   "metadata": {},
   "source": [
    "## Step 1 Connect to Client"
   ]
  },
  {
   "cell_type": "markdown",
   "metadata": {},
   "source": [
    "sync to source server for data extraction"
   ]
  },
  {
   "cell_type": "code",
   "execution_count": null,
   "metadata": {},
   "outputs": [],
   "source": []
  },
  {
   "cell_type": "markdown",
   "metadata": {},
   "source": [
    "## Step 2 Query Data"
   ]
  },
  {
   "cell_type": "markdown",
   "metadata": {},
   "source": [
    "Submit query to source and retreive data. Save it locally"
   ]
  },
  {
   "cell_type": "code",
   "execution_count": null,
   "metadata": {},
   "outputs": [],
   "source": []
  },
  {
   "cell_type": "markdown",
   "metadata": {},
   "source": [
    "## Step 3 Mount Data onto Pandas Dataframe"
   ]
  },
  {
   "cell_type": "markdown",
   "metadata": {},
   "source": [
    "Take FHIR formatted data and convert it to a pandas dataframe for subsequent analysis."
   ]
  },
  {
   "cell_type": "markdown",
   "metadata": {},
   "source": [
    "This resource seems like a good one! https://github.com/dermatologist/fhiry"
   ]
  },
  {
   "cell_type": "code",
   "execution_count": null,
   "metadata": {},
   "outputs": [],
   "source": []
  },
  {
   "cell_type": "markdown",
   "metadata": {},
   "source": [
    "## Step 4 Exploratory Data Analysis "
   ]
  },
  {
   "cell_type": "markdown",
   "metadata": {},
   "source": [
    "Conduct some limited, EDA for demonstration purposes."
   ]
  },
  {
   "cell_type": "code",
   "execution_count": null,
   "metadata": {},
   "outputs": [],
   "source": []
  },
  {
   "cell_type": "markdown",
   "metadata": {},
   "source": [
    "## Summary\n",
    "\n",
    "(A review of what was done in this notebook, possibly reinforcing how this kind of use case could be useful in the real world)"
   ]
  }
 ],
 "metadata": {
  "kernelspec": {
   "display_name": "Python 3",
   "language": "python",
   "name": "python3"
  },
  "language_info": {
   "codemirror_mode": {
    "name": "ipython",
    "version": 3
   },
   "file_extension": ".py",
   "mimetype": "text/x-python",
   "name": "python",
   "nbconvert_exporter": "python",
   "pygments_lexer": "ipython3",
   "version": "3.7.4"
  }
 },
 "nbformat": 4,
 "nbformat_minor": 5
}
