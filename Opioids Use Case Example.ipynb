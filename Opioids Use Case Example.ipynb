{
 "cells": [
  {
   "cell_type": "markdown",
   "id": "85cf5838-3d5f-412c-8668-315e1e06a1e2",
   "metadata": {},
   "source": [
    "# Exercise 1: Patients Prescribed Opioids"
   ]
  },
  {
   "cell_type": "markdown",
   "id": "39a5cdfd-5a91-4466-90c8-7ae266ecdbf8",
   "metadata": {},
   "source": [
    "## Introduction\n",
    "\n",
    "This notebook explores a FHIR server with a RESTful API which contains data with patients currently prescribed opioids."
   ]
  },
  {
   "cell_type": "markdown",
   "id": "19951da3-c2c5-4d56-bbd4-508c75c637b8",
   "metadata": {},
   "source": [
    "### Environment Configuration\n",
    "\n",
    "First, let's configure the environment with the libraries and settings that will be used throughtout the rest of the exercise."
   ]
  },
  {
   "cell_type": "code",
   "execution_count": 24,
   "id": "8788df05-c49d-495d-b46e-ace349a8353b",
   "metadata": {},
   "outputs": [],
   "source": [
    "import json\n",
    "import requests\n",
    "import pandas as pd\n",
    "from IPython.display import Markdown, display\n",
    "\n",
    "def print_md(string):\n",
    "    display(Markdown(string))\n",
    "\n",
    "s = requests.Session()\n",
    "s.headers.update({'Accept':'application/fhir+json', 'Content-Type': 'application/fhir+json'})\n",
    "s.verify = False\n",
    "requests.packages.urllib3.disable_warnings()\n",
    "\n",
    "FHIR_SERVER = 'https://api.logicahealth.org/opioids/open'"
   ]
  },
  {
   "cell_type": "markdown",
   "id": "5648086e-ad16-45b6-b766-1dbc39a6cc97",
   "metadata": {},
   "source": [
    "## Querying the Server\n",
    "\n",
    "All servers are required to support the `capabilities` interaction which documents the server's functionality. The capability interaction is of the form:\n",
    "\n",
    "`GET [base]/metadata`\n",
    "\n",
    "📘[Read more about the capabilities interaction](https://www.hl7.org/fhir/http.html#capabilities)"
   ]
  },
  {
   "cell_type": "code",
   "execution_count": 9,
   "id": "2bcd4e83-7e3b-4a0d-a43b-0e0712860030",
   "metadata": {},
   "outputs": [
    {
     "name": "stdout",
     "output_type": "stream",
     "text": [
      "HTTP Status Code: 200\n"
     ]
    }
   ],
   "source": [
    "r = s.get(f\"{FHIR_SERVER}/metadata\")\n",
    "print(f\"HTTP Status Code: {r.status_code}\")\n",
    "capability_statement = r.json()"
   ]
  },
  {
   "cell_type": "markdown",
   "id": "dd1cf78f-3a6c-4664-927d-9ffd13f4e060",
   "metadata": {},
   "source": [
    "The HTTP status code, `200 - OK` indicates a successful response. The CapabilityStatement is usually a very large resource so we'll focus on a few key elements."
   ]
  },
  {
   "cell_type": "code",
   "execution_count": 22,
   "id": "4dca6247-275f-4da6-bf0f-42ff4a6a2e38",
   "metadata": {},
   "outputs": [
    {
     "name": "stdout",
     "output_type": "stream",
     "text": [
      "FHIR Version Supported: 4.0.1\n",
      "Formats Supported: application/fhir+xml, application/fhir+json\n",
      "\n",
      "Number of RESTful Endpoints: 1\n",
      "Endpoint Type: server\n"
     ]
    }
   ],
   "source": [
    "print(f\"FHIR Version Supported: {capability_statement['fhirVersion']}\")\n",
    "print(f\"Formats Supported: {', '.join(capability_statement['format'])}\")\n",
    "print()\n",
    "\n",
    "print(f\"Number of RESTful Endpoints: {len(capability_statement['rest'])}\")\n",
    "for rest in capability_statement['rest']:\n",
    "    print(f\"Endpoint Type: {rest['mode']}\")"
   ]
  },
  {
   "cell_type": "markdown",
   "id": "c8b2df32-1522-4135-b60a-8165f5394956",
   "metadata": {},
   "source": [
    "There is only a single server RESTful endpoint. We can also see the types of FHIR Resources available on this endpoint and the supported operations. Keep in mind that there might not be any data available for a particular FHIR resource even if the server supports that type."
   ]
  },
  {
   "cell_type": "code",
   "execution_count": 58,
   "id": "4056fe76-e0b8-4a8a-9870-ad07cd5b6b56",
   "metadata": {},
   "outputs": [],
   "source": [
    "rest = capability_statement['rest'][0]\n",
    "data = {'Resource': [resource['type'] for resource in rest['resource']],\n",
    "        'Interaction': [[interaction['code'] for interaction in resource['interaction']] for resource in rest['resource']],\n",
    "        'Search': [[search['name'] for search in resource['searchParam']] for resource in rest['resource']]}\n",
    "\n",
    "capabilities_df = pd.DataFrame.from_dict(data)"
   ]
  },
  {
   "cell_type": "code",
   "execution_count": 59,
   "id": "f298dd02-2c4b-4d74-9897-67f800930b4d",
   "metadata": {},
   "outputs": [
    {
     "name": "stdout",
     "output_type": "stream",
     "text": [
      "Supported Resources\n"
     ]
    },
    {
     "data": {
      "text/html": [
       "<div>\n",
       "<style scoped>\n",
       "    .dataframe tbody tr th:only-of-type {\n",
       "        vertical-align: middle;\n",
       "    }\n",
       "\n",
       "    .dataframe tbody tr th {\n",
       "        vertical-align: top;\n",
       "    }\n",
       "\n",
       "    .dataframe thead th {\n",
       "        text-align: right;\n",
       "    }\n",
       "</style>\n",
       "<table border=\"1\" class=\"dataframe\">\n",
       "  <thead>\n",
       "    <tr style=\"text-align: right;\">\n",
       "      <th></th>\n",
       "      <th>Resource</th>\n",
       "    </tr>\n",
       "  </thead>\n",
       "  <tbody>\n",
       "    <tr>\n",
       "      <th>0</th>\n",
       "      <td>Account</td>\n",
       "    </tr>\n",
       "    <tr>\n",
       "      <th>1</th>\n",
       "      <td>ActivityDefinition</td>\n",
       "    </tr>\n",
       "    <tr>\n",
       "      <th>2</th>\n",
       "      <td>AdverseEvent</td>\n",
       "    </tr>\n",
       "    <tr>\n",
       "      <th>3</th>\n",
       "      <td>AllergyIntolerance</td>\n",
       "    </tr>\n",
       "    <tr>\n",
       "      <th>4</th>\n",
       "      <td>Appointment</td>\n",
       "    </tr>\n",
       "    <tr>\n",
       "      <th>...</th>\n",
       "      <td>...</td>\n",
       "    </tr>\n",
       "    <tr>\n",
       "      <th>141</th>\n",
       "      <td>TestReport</td>\n",
       "    </tr>\n",
       "    <tr>\n",
       "      <th>142</th>\n",
       "      <td>TestScript</td>\n",
       "    </tr>\n",
       "    <tr>\n",
       "      <th>143</th>\n",
       "      <td>ValueSet</td>\n",
       "    </tr>\n",
       "    <tr>\n",
       "      <th>144</th>\n",
       "      <td>VerificationResult</td>\n",
       "    </tr>\n",
       "    <tr>\n",
       "      <th>145</th>\n",
       "      <td>VisionPrescription</td>\n",
       "    </tr>\n",
       "  </tbody>\n",
       "</table>\n",
       "<p>146 rows × 1 columns</p>\n",
       "</div>"
      ],
      "text/plain": [
       "               Resource\n",
       "0               Account\n",
       "1    ActivityDefinition\n",
       "2          AdverseEvent\n",
       "3    AllergyIntolerance\n",
       "4           Appointment\n",
       "..                  ...\n",
       "141          TestReport\n",
       "142          TestScript\n",
       "143            ValueSet\n",
       "144  VerificationResult\n",
       "145  VisionPrescription\n",
       "\n",
       "[146 rows x 1 columns]"
      ]
     },
     "metadata": {},
     "output_type": "display_data"
    },
    {
     "name": "stdout",
     "output_type": "stream",
     "text": [
      "Interactions Supported by Resource\n"
     ]
    },
    {
     "data": {
      "text/html": [
       "<div>\n",
       "<style scoped>\n",
       "    .dataframe tbody tr th:only-of-type {\n",
       "        vertical-align: middle;\n",
       "    }\n",
       "\n",
       "    .dataframe tbody tr th {\n",
       "        vertical-align: top;\n",
       "    }\n",
       "\n",
       "    .dataframe thead th {\n",
       "        text-align: right;\n",
       "    }\n",
       "</style>\n",
       "<table border=\"1\" class=\"dataframe\">\n",
       "  <thead>\n",
       "    <tr style=\"text-align: right;\">\n",
       "      <th></th>\n",
       "      <th>Resource</th>\n",
       "      <th>Interaction</th>\n",
       "    </tr>\n",
       "  </thead>\n",
       "  <tbody>\n",
       "    <tr>\n",
       "      <th>0</th>\n",
       "      <td>Account</td>\n",
       "      <td>read</td>\n",
       "    </tr>\n",
       "    <tr>\n",
       "      <th>0</th>\n",
       "      <td>Account</td>\n",
       "      <td>vread</td>\n",
       "    </tr>\n",
       "    <tr>\n",
       "      <th>0</th>\n",
       "      <td>Account</td>\n",
       "      <td>update</td>\n",
       "    </tr>\n",
       "    <tr>\n",
       "      <th>0</th>\n",
       "      <td>Account</td>\n",
       "      <td>patch</td>\n",
       "    </tr>\n",
       "    <tr>\n",
       "      <th>0</th>\n",
       "      <td>Account</td>\n",
       "      <td>delete</td>\n",
       "    </tr>\n",
       "    <tr>\n",
       "      <th>...</th>\n",
       "      <td>...</td>\n",
       "      <td>...</td>\n",
       "    </tr>\n",
       "    <tr>\n",
       "      <th>145</th>\n",
       "      <td>VisionPrescription</td>\n",
       "      <td>delete</td>\n",
       "    </tr>\n",
       "    <tr>\n",
       "      <th>145</th>\n",
       "      <td>VisionPrescription</td>\n",
       "      <td>history-instance</td>\n",
       "    </tr>\n",
       "    <tr>\n",
       "      <th>145</th>\n",
       "      <td>VisionPrescription</td>\n",
       "      <td>history-type</td>\n",
       "    </tr>\n",
       "    <tr>\n",
       "      <th>145</th>\n",
       "      <td>VisionPrescription</td>\n",
       "      <td>create</td>\n",
       "    </tr>\n",
       "    <tr>\n",
       "      <th>145</th>\n",
       "      <td>VisionPrescription</td>\n",
       "      <td>search-type</td>\n",
       "    </tr>\n",
       "  </tbody>\n",
       "</table>\n",
       "<p>1314 rows × 2 columns</p>\n",
       "</div>"
      ],
      "text/plain": [
       "               Resource       Interaction\n",
       "0               Account              read\n",
       "0               Account             vread\n",
       "0               Account            update\n",
       "0               Account             patch\n",
       "0               Account            delete\n",
       "..                  ...               ...\n",
       "145  VisionPrescription            delete\n",
       "145  VisionPrescription  history-instance\n",
       "145  VisionPrescription      history-type\n",
       "145  VisionPrescription            create\n",
       "145  VisionPrescription       search-type\n",
       "\n",
       "[1314 rows x 2 columns]"
      ]
     },
     "metadata": {},
     "output_type": "display_data"
    },
    {
     "name": "stdout",
     "output_type": "stream",
     "text": [
      "Searches Supported by Resource\n"
     ]
    },
    {
     "data": {
      "text/html": [
       "<div>\n",
       "<style scoped>\n",
       "    .dataframe tbody tr th:only-of-type {\n",
       "        vertical-align: middle;\n",
       "    }\n",
       "\n",
       "    .dataframe tbody tr th {\n",
       "        vertical-align: top;\n",
       "    }\n",
       "\n",
       "    .dataframe thead th {\n",
       "        text-align: right;\n",
       "    }\n",
       "</style>\n",
       "<table border=\"1\" class=\"dataframe\">\n",
       "  <thead>\n",
       "    <tr style=\"text-align: right;\">\n",
       "      <th></th>\n",
       "      <th>Resource</th>\n",
       "      <th>Search</th>\n",
       "    </tr>\n",
       "  </thead>\n",
       "  <tbody>\n",
       "    <tr>\n",
       "      <th>0</th>\n",
       "      <td>Account</td>\n",
       "      <td>_language</td>\n",
       "    </tr>\n",
       "    <tr>\n",
       "      <th>0</th>\n",
       "      <td>Account</td>\n",
       "      <td>owner</td>\n",
       "    </tr>\n",
       "    <tr>\n",
       "      <th>0</th>\n",
       "      <td>Account</td>\n",
       "      <td>identifier</td>\n",
       "    </tr>\n",
       "    <tr>\n",
       "      <th>0</th>\n",
       "      <td>Account</td>\n",
       "      <td>period</td>\n",
       "    </tr>\n",
       "    <tr>\n",
       "      <th>0</th>\n",
       "      <td>Account</td>\n",
       "      <td>patient</td>\n",
       "    </tr>\n",
       "    <tr>\n",
       "      <th>...</th>\n",
       "      <td>...</td>\n",
       "      <td>...</td>\n",
       "    </tr>\n",
       "    <tr>\n",
       "      <th>145</th>\n",
       "      <td>VisionPrescription</td>\n",
       "      <td>patient</td>\n",
       "    </tr>\n",
       "    <tr>\n",
       "      <th>145</th>\n",
       "      <td>VisionPrescription</td>\n",
       "      <td>datewritten</td>\n",
       "    </tr>\n",
       "    <tr>\n",
       "      <th>145</th>\n",
       "      <td>VisionPrescription</td>\n",
       "      <td>_id</td>\n",
       "    </tr>\n",
       "    <tr>\n",
       "      <th>145</th>\n",
       "      <td>VisionPrescription</td>\n",
       "      <td>encounter</td>\n",
       "    </tr>\n",
       "    <tr>\n",
       "      <th>145</th>\n",
       "      <td>VisionPrescription</td>\n",
       "      <td>status</td>\n",
       "    </tr>\n",
       "  </tbody>\n",
       "</table>\n",
       "<p>1989 rows × 2 columns</p>\n",
       "</div>"
      ],
      "text/plain": [
       "               Resource       Search\n",
       "0               Account    _language\n",
       "0               Account        owner\n",
       "0               Account   identifier\n",
       "0               Account       period\n",
       "0               Account      patient\n",
       "..                  ...          ...\n",
       "145  VisionPrescription      patient\n",
       "145  VisionPrescription  datewritten\n",
       "145  VisionPrescription          _id\n",
       "145  VisionPrescription    encounter\n",
       "145  VisionPrescription       status\n",
       "\n",
       "[1989 rows x 2 columns]"
      ]
     },
     "metadata": {},
     "output_type": "display_data"
    }
   ],
   "source": [
    "print('Supported Resources')\n",
    "display(capabilities_df[['Resource']])\n",
    "\n",
    "print('Interactions Supported by Resource')\n",
    "display(capabilities_df.explode('Interaction')[['Resource','Interaction']])\n",
    "\n",
    "print('Searches Supported by Resource')\n",
    "display(capabilities_df.explode('Search')[['Resource','Search']])"
   ]
  },
  {
   "cell_type": "code",
   "execution_count": null,
   "id": "00ebffee-cfc1-48a4-bb8e-31cc5b7b695a",
   "metadata": {},
   "outputs": [],
   "source": []
  }
 ],
 "metadata": {
  "kernelspec": {
   "display_name": "Python 3 (ipykernel)",
   "language": "python",
   "name": "python3"
  },
  "language_info": {
   "codemirror_mode": {
    "name": "ipython",
    "version": 3
   },
   "file_extension": ".py",
   "mimetype": "text/x-python",
   "name": "python",
   "nbconvert_exporter": "python",
   "pygments_lexer": "ipython3",
   "version": "3.9.5"
  }
 },
 "nbformat": 4,
 "nbformat_minor": 5
}
