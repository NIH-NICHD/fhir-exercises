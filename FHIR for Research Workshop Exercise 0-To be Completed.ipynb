{
 "cells": [
  {
   "cell_type": "markdown",
   "metadata": {},
   "source": [
    "# FHIR for Research Workshop"
   ]
  },
  {
   "cell_type": "markdown",
   "metadata": {},
   "source": [
    "## Exercise 0 - Getting Started"
   ]
  },
  {
   "cell_type": "markdown",
   "metadata": {},
   "source": [
    "### Motivation / Purpose"
   ]
  },
  {
   "cell_type": "markdown",
   "metadata": {},
   "source": [
    "\n",
    "#### Exercise Ojective: For this exercise we'll introduce you to the basic mechanism for working with FHIR data, stored remotely, in your local Python environment. \n",
    "\n",
    "In order to to this, for this exercise, we will walk you through the following steps:\n",
    "<ol>\n",
    "    <li> Establish a connection to the client server</li>\n",
    "    <li> Format and submit a query to the server </li>\n",
    "    <li> Extract relevant data from the FHIR server and save it locally as a JSON document.</li>\n",
    "    <li> View the resulting file to confirm that we successfully pulled data from our remote server.</li>\n",
    "    </ol>\n"
   ]
  },
  {
   "cell_type": "markdown",
   "metadata": {},
   "source": [
    "## Step 1: Establish a Connection to the Client Server"
   ]
  },
  {
   "cell_type": "markdown",
   "metadata": {},
   "source": [
    "First let's connect to our source server for data extraction.\n",
    "\n",
    "We use the python requests library to submit a RESTful GET request structured as a url and then convert the file (already in JSON format), into a JSON object in our dataframe."
   ]
  },
  {
   "cell_type": "markdown",
   "metadata": {},
   "source": [
    "Generally speaking the format for a RESTful GET query appended to a url will take the form of: \n",
    "\n",
    "```\n",
    "VERB [url]/[Resource]/[id] {?parameter=[value]}\n",
    "```\n",
    "\n",
    "See http://hl7.org/fhir/R4/http.html for more details."
   ]
  },
  {
   "cell_type": "markdown",
   "metadata": {},
   "source": [
    "Let's string together a basic query to get the status of our FHIR server. \n",
    "\n",
    "Generally we'll want to use the following notation:\n",
    "\n",
    "r = requests.get([url])\n",
    "\n",
    "In this case:\n",
    "<ul>\n",
    "    <li> [URL] = https://api.logicahealth.org/researchonfhir/open/ </li>\n",
    "    <li> [Resource] = metadata</li>\n",
    "    <li>ID = status_code</li>\n",
    "    </ul>\n",
    "    \n",
    "To view the resulting query you can just output the variable directly."
   ]
  },
  {
   "cell_type": "code",
   "execution_count": 1,
   "metadata": {},
   "outputs": [],
   "source": [
    "# Let's import the requests library we'll be using for this exercise:\n",
    "import requests"
   ]
  },
  {
   "cell_type": "code",
   "execution_count": null,
   "metadata": {},
   "outputs": [],
   "source": []
  },
  {
   "cell_type": "markdown",
   "metadata": {},
   "source": [
    "Hopefully you got a server status = <Response [200]> meaning the server is up and running!"
   ]
  },
  {
   "cell_type": "markdown",
   "metadata": {},
   "source": [
    "## Step 2: Format and submit a query to the server "
   ]
  },
  {
   "cell_type": "markdown",
   "metadata": {},
   "source": [
    "We are now positioned to submit specific queries to our source server and retrieve data. We then save the results locally in JSON files for subsequent parsing."
   ]
  },
  {
   "cell_type": "markdown",
   "metadata": {},
   "source": [
    "Let's import the required libraries and submit a sample query to return the basic information from a single patient: 'smart-1032702':\n",
    "<ul>\n",
    "    <li> [URL] = https://api.logicahealth.org/researchonfhir/open/ </li>\n",
    "    <li> [Resource] = Patient</li>\n",
    "    <li>ID = smart-1032702</li>\n",
    "</ul>"
   ]
  },
  {
   "cell_type": "code",
   "execution_count": null,
   "metadata": {},
   "outputs": [],
   "source": []
  },
  {
   "cell_type": "markdown",
   "metadata": {},
   "source": [
    "So if you output the resulting query we again (hopefully!) get a 200 status response telling us our query was successfully received. We now have to convert the response into a format we can parse locally, and to do that we'll need the JSON Library!"
   ]
  },
  {
   "cell_type": "markdown",
   "metadata": {},
   "source": [
    "## Step 3: Extract relevant data from the FHIR server and save it locally as a JSON document"
   ]
  },
  {
   "cell_type": "markdown",
   "metadata": {},
   "source": [
    "We'll leverage the JSON library to convert our previously queried data into a JSON formatted file we can then output directly into our workbook to review. "
   ]
  },
  {
   "cell_type": "code",
   "execution_count": 2,
   "metadata": {},
   "outputs": [],
   "source": [
    "# Let's import the JSON library we'll be using\n",
    "import json"
   ]
  },
  {
   "cell_type": "markdown",
   "metadata": {},
   "source": [
    "Now we can convert our query by simply appending the .json() method to our previously stored such that json = query.json()"
   ]
  },
  {
   "cell_type": "code",
   "execution_count": null,
   "metadata": {},
   "outputs": [],
   "source": []
  },
  {
   "cell_type": "markdown",
   "metadata": {},
   "source": [
    "## Step 4: View the resulting file to confirm that we successfully pulled data from our remote server"
   ]
  },
  {
   "cell_type": "markdown",
   "metadata": {},
   "source": [
    "Let's now output the bundle to confirm we successfully accessed the server and queried data."
   ]
  },
  {
   "cell_type": "code",
   "execution_count": null,
   "metadata": {},
   "outputs": [],
   "source": []
  },
  {
   "cell_type": "markdown",
   "metadata": {},
   "source": [
    "We can now visualize the specific patient data stored in this FHIR resource. As a next step we'll begin the process of converting the data into a Python Pandas Dataframe and begin working with the data in exercise 1."
   ]
  }
 ],
 "metadata": {
  "kernelspec": {
   "display_name": "Python 3",
   "language": "python",
   "name": "python3"
  },
  "language_info": {
   "codemirror_mode": {
    "name": "ipython",
    "version": 3
   },
   "file_extension": ".py",
   "mimetype": "text/x-python",
   "name": "python",
   "nbconvert_exporter": "python",
   "pygments_lexer": "ipython3",
   "version": "3.7.4"
  }
 },
 "nbformat": 4,
 "nbformat_minor": 5
}
