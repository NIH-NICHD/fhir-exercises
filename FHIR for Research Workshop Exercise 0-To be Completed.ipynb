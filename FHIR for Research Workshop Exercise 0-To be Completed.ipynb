{
 "cells": [
  {
   "cell_type": "markdown",
   "id": "20899138",
   "metadata": {},
   "source": [
    "# FHIR for Research Workshop"
   ]
  },
  {
   "cell_type": "markdown",
   "id": "330721d8",
   "metadata": {},
   "source": [
    "## Exercise 0 - Getting Started"
   ]
  },
  {
   "cell_type": "markdown",
   "id": "995500c7",
   "metadata": {},
   "source": [
    "### Motivation / Purpose"
   ]
  },
  {
   "cell_type": "markdown",
   "id": "27f9ff8f",
   "metadata": {},
   "source": [
    "\n",
    "#### Exercise Objective: Introduce you to the basic mechanisms for working with FHIR\n",
    "\n",
    "For this exercise, we will walk you through the following steps:\n",
    "<ol>\n",
    "    <li> Establish a connection to the client server</li>\n",
    "    <li> Format and submit a query to the server </li>\n",
    "    <li> Process response data from the FHIR server as a JSON document.</li>\n",
    "    <li> View the resulting JSON to confirm that we successfully pulled data from the remote server.</li>\n",
    "    </ol>"
   ]
  },
  {
   "cell_type": "markdown",
   "id": "e3808ace",
   "metadata": {},
   "source": [
    "## Step 1: Establish a Connection to the FHIR Server"
   ]
  },
  {
   "cell_type": "markdown",
   "id": "1f67598d",
   "metadata": {},
   "source": [
    "First let's connect to our FHIR server for data retrieval.\n",
    "\n",
    "We use the python requests library to submit a RESTful GET request formatted as a URL."
   ]
  },
  {
   "cell_type": "markdown",
   "id": "798dbf33",
   "metadata": {},
   "source": [
    "Generally speaking the pattern for a RESTful GET query appended to a URL will take the form of: \n",
    "\n",
    "```\n",
    "VERB [url]/[Resource]/[id] {?parameter=[value]}\n",
    "```\n",
    "\n",
    "See http://hl7.org/fhir/R4/http.html for more details."
   ]
  },
  {
   "cell_type": "markdown",
   "id": "f5b5fd74",
   "metadata": {},
   "source": [
    "Let's string together a basic query to get the status of our FHIR server. \n",
    "\n",
    "Generally we'll want to use the following python notation:\n",
    "\n",
    "```\n",
    "r = requests.get(url)\n",
    "```\n",
    "\n",
    "In this case, we want to modify the general pattern with:\n",
    "\n",
    "- `[url] = https://api.logicahealth.org/researchonfhir/open/`\n",
    "- `[Resource] = metadata`\n",
    "- `[id] = status_code`\n",
    "    \n",
    "To view the resulting query you can just output the variable directly."
   ]
  },
  {
   "cell_type": "code",
   "execution_count": 1,
   "id": "b608676a",
   "metadata": {},
   "outputs": [],
   "source": [
    "# Let's import the requests library we'll be using for this exercise:\n",
    "import requests"
   ]
  },
  {
   "cell_type": "code",
   "execution_count": null,
   "id": "ac8bcd32",
   "metadata": {},
   "outputs": [],
   "source": []
  },
  {
   "cell_type": "markdown",
   "id": "633e0eb7",
   "metadata": {},
   "source": [
    "Hopefully you got a server status = <Response [200]> meaning the server is up and running!"
   ]
  },
  {
   "cell_type": "markdown",
   "id": "7e7105fd",
   "metadata": {},
   "source": [
    "## Step 2: Format and submit a query to the server "
   ]
  },
  {
   "cell_type": "markdown",
   "id": "492ffad8",
   "metadata": {},
   "source": [
    "We are now positioned to submit specific queries to our FHIR server and retrieve data."
   ]
  },
  {
   "cell_type": "markdown",
   "id": "7c456f46",
   "metadata": {},
   "source": [
    "Let's submit a sample query to return the basic information from a single patient: `smart-1032702`:\n",
    "\n",
    "- `[URL] = https://api.logicahealth.org/researchonfhir/open/`\n",
    "- `[Resource] = Patient`\n",
    "- `ID = smart-1032702`"
   ]
  },
  {
   "cell_type": "code",
   "execution_count": null,
   "id": "a3728fce",
   "metadata": {},
   "outputs": [],
   "source": []
  },
  {
   "cell_type": "markdown",
   "id": "328507c9",
   "metadata": {},
   "source": [
    "So if you output the resulting query we again (hopefully!) get a 200 status response telling us our query was successfully received. We now have to convert the response into a format we can parse locally, and to do that we'll need the JSON Library!"
   ]
  },
  {
   "cell_type": "markdown",
   "id": "3a45f016",
   "metadata": {},
   "source": [
    "## Step 3: Process response data from the FHIR server as a JSON document"
   ]
  },
  {
   "cell_type": "markdown",
   "id": "0503bf34",
   "metadata": {},
   "source": [
    "We'll leverage the JSON library to convert our previously queried data into a JSON formatted file we can then output directly into our workbook to review. "
   ]
  },
  {
   "cell_type": "code",
   "execution_count": 2,
   "id": "9ebf7f38",
   "metadata": {},
   "outputs": [],
   "source": [
    "# Let's import the JSON library we'll be using\n",
    "import json"
   ]
  },
  {
   "cell_type": "markdown",
   "id": "6f2fd37d",
   "metadata": {},
   "source": [
    "Now we can convert our query by simply appending the .json() method to our previously stored such that json = query.json()"
   ]
  },
  {
   "cell_type": "code",
   "execution_count": null,
   "id": "48344380",
   "metadata": {},
   "outputs": [],
   "source": []
  },
  {
   "cell_type": "markdown",
   "id": "dff1901a",
   "metadata": {},
   "source": [
    "## Step 4: View the resulting JSON to confirm that we successfully pulled data from our remote server"
   ]
  },
  {
   "cell_type": "markdown",
   "id": "a6fea87d",
   "metadata": {},
   "source": [
    "Let's now output the response data to confirm we successfully accessed the server and queried data."
   ]
  },
  {
   "cell_type": "code",
   "execution_count": null,
   "id": "00a0aa2e",
   "metadata": {},
   "outputs": [],
   "source": []
  },
  {
   "cell_type": "markdown",
   "id": "183db2c4",
   "metadata": {},
   "source": [
    "We can now visualize the specific patient data stored in this FHIR resource. As a next step we'll begin the process of converting the data into a Python Pandas Dataframe and begin working with the data in Exercise 1."
   ]
  },
  {
   "cell_type": "code",
   "execution_count": null,
   "id": "9b64c66e",
   "metadata": {},
   "outputs": [],
   "source": []
  }
 ],
 "metadata": {
  "kernelspec": {
   "display_name": "Python 3",
   "language": "python",
   "name": "python3"
  },
  "language_info": {
   "codemirror_mode": {
    "name": "ipython",
    "version": 3
   },
   "file_extension": ".py",
   "mimetype": "text/x-python",
   "name": "python",
   "nbconvert_exporter": "python",
   "pygments_lexer": "ipython3",
   "version": "3.9.5"
  }
 },
 "nbformat": 4,
 "nbformat_minor": 5
}
