{
 "cells": [
  {
   "cell_type": "markdown",
   "metadata": {},
   "source": [
    "# FHIR for Research Workshop - Exercise 3"
   ]
  },
  {
   "cell_type": "markdown",
   "metadata": {},
   "source": [
    "## Drug on Drug Interactions"
   ]
  },
  {
   "cell_type": "markdown",
   "metadata": {},
   "source": [
    " For this exercise we will explore potential drug on drug interactions in a patient cohort by drawing from the NIH's Drug RxNAV database that includes open APIs we can reference against our patient population. \n",
    "\n",
    "\n",
    "## Scenario: Potential Drug on Drug Interaction Risks in a Patient Population\n",
    "To complete this exercise we will pull the list of prescriptions from our patient cohort, and then leveraging the NIH Drug on Drug API we will determine which patients have any potential risk of adverse events to patients in our cohort. \n",
    "\n",
    "For this initial analysis we will want to do the following:\n",
    "### Key Activities:\n",
    "<ol>\n",
    "    <li> Query all active prescriptions in our patient cohort</li>\n",
    "    <li> Determine how to query the API and then construct a mechanism to feed our patient info into that API to determine if a known Drug on Drug Interaction could occur.</li>\n",
    "    <li> Construct a composite list of all drugs per-patient (so we can determine a potential Drug on Drug interaction)</li>\n",
    "    <li> Construct a program to loop through our entire cohort and determine the aggregate risk.</li>\n",
    "\n",
    "### Motivation/Purpose\n",
    "From a research persective we can envision leveraging these sorts of analyses to do post-market surveilance of drugs to determine both the rate of known adverse events among patients, as well as to potentially flag additional risks not yet identified. \n",
    "\n",
    "Clinically this exercise demonstrates the power of a SMART of FHIR application, where third-party data (in this case Drug on Drug interaction data), can be pulled in, paired with FHIR formatted clinical data, and then leveraged to better inform patient care in the form of Clinical Decision Support tools. \n",
    "\n",
    "### Key Skills Practiced\n",
    "For this scenario, the key challenge will be in mapping the API query to our data and constructing a data structure capable of leveraging it automatically. "
   ]
  },
  {
   "cell_type": "markdown",
   "metadata": {},
   "source": [
    "## Step 1: Query all active prescriptions in our patient cohort"
   ]
  },
  {
   "cell_type": "markdown",
   "metadata": {},
   "source": [
    "For this exercise we will call on the 'MedicationRequest' resource which is the closest equivalent to a prescriptions resource in FHIR. Each item is effectively a single prescription. \n",
    "\n",
    "We will also make sure to include the relevant patient information to ensure we can map multiple prescritpions to individual patients."
   ]
  },
  {
   "cell_type": "code",
   "execution_count": 1,
   "metadata": {},
   "outputs": [],
   "source": [
    "# Here's a set of libraries we'll import for this exercise\n",
    "import requests\n",
    "import json\n",
    "import pandas as pd\n",
    "from pandas import json_normalize"
   ]
  },
  {
   "cell_type": "markdown",
   "metadata": {},
   "source": [
    "### Compose the proper query"
   ]
  },
  {
   "cell_type": "markdown",
   "metadata": {},
   "source": [
    "First compose a query to pull the 'MedicationRequest' resource from your client server. Then convert it to json format. Optionally, you can output the resulting JSON file to confirm that you've successfully queried the database."
   ]
  },
  {
   "cell_type": "code",
   "execution_count": 2,
   "metadata": {},
   "outputs": [
    {
     "name": "stderr",
     "output_type": "stream",
     "text": [
      "/opt/anaconda3/lib/python3.7/site-packages/urllib3/connectionpool.py:1004: InsecureRequestWarning: Unverified HTTPS request is being made. Adding certificate verification is strongly advised. See: https://urllib3.readthedocs.io/en/latest/advanced-usage.html#ssl-warnings\n",
      "  InsecureRequestWarning,\n"
     ]
    },
    {
     "data": {
      "text/plain": [
       "<Response [200]>"
      ]
     },
     "execution_count": 2,
     "metadata": {},
     "output_type": "execute_result"
    }
   ],
   "source": [
    "r = requests.get(f\"https://api.logicahealth.org/researchonfhir/open/MedicationRequest?\", verify=False)\n",
    "bundle = r.json()\n",
    "r"
   ]
  },
  {
   "cell_type": "markdown",
   "metadata": {},
   "source": [
    "Let's now borrow the list mapping lambda function we deployed to map out our JSON file (entering the entire bundle, and mapping by resource) and then return the first example (index 0 or [0] so we can get a better look at what information we have to work with."
   ]
  },
  {
   "cell_type": "code",
   "execution_count": 3,
   "metadata": {},
   "outputs": [
    {
     "data": {
      "text/plain": [
       "{'resourceType': 'MedicationRequest',\n",
       " 'id': 'smart-MedicationRequest-101',\n",
       " 'meta': {'versionId': '1',\n",
       "  'lastUpdated': '2020-07-15T02:51:25.000+00:00',\n",
       "  'source': '#KQSArAdbxORTtqVw'},\n",
       " 'text': {'status': 'generated',\n",
       "  'div': '<div xmlns=\"http://www.w3.org/1999/xhtml\">Nizatidine 15 MG/ML Oral Solution [Axid] (rxnorm: 582620)</div>'},\n",
       " 'status': 'active',\n",
       " 'intent': 'order',\n",
       " 'medicationCodeableConcept': {'coding': [{'system': 'http://www.nlm.nih.gov/research/umls/rxnorm',\n",
       "    'code': '582620',\n",
       "    'display': 'Nizatidine 15 MG/ML Oral Solution [Axid]'}],\n",
       "  'text': 'Nizatidine 15 MG/ML Oral Solution [Axid]'},\n",
       " 'subject': {'reference': 'Patient/smart-1032702'},\n",
       " 'dosageInstruction': [{'text': '10 mL bid',\n",
       "   'timing': {'repeat': {'boundsPeriod': {'start': '2008-04-05'},\n",
       "     'frequency': 2,\n",
       "     'period': 1,\n",
       "     'periodUnit': 'd'}}}],\n",
       " 'dispenseRequest': {'numberOfRepeatsAllowed': 1,\n",
       "  'quantity': {'value': 1.0,\n",
       "   'unit': 'mL',\n",
       "   'system': 'http://unitsofmeasure.org',\n",
       "   'code': 'mL'},\n",
       "  'expectedSupplyDuration': {'value': 30,\n",
       "   'unit': 'days',\n",
       "   'system': 'http://unitsofmeasure.org',\n",
       "   'code': 'd'}}}"
      ]
     },
     "execution_count": 3,
     "metadata": {},
     "output_type": "execute_result"
    }
   ],
   "source": [
    "prescriptions = list(map(lambda e: e['resource'], bundle['entry']))\n",
    "prescriptions[0]"
   ]
  },
  {
   "cell_type": "markdown",
   "metadata": {},
   "source": [
    "### Mount Data onto a Pandas Dataframe"
   ]
  },
  {
   "cell_type": "markdown",
   "metadata": {},
   "source": [
    "Now that we've extracted information we need, we will then take the FHIR formatted data and convert it into a pandas dataframe for subsequent analysis."
   ]
  },
  {
   "cell_type": "markdown",
   "metadata": {},
   "source": [
    "Based on our previous exercises we know we can use the JSON_normalize function parse the JSON into a pandas dataframe. Let's do that now and take a look at what we have"
   ]
  },
  {
   "cell_type": "code",
   "execution_count": 4,
   "metadata": {},
   "outputs": [
    {
     "data": {
      "text/html": [
       "<div>\n",
       "<style scoped>\n",
       "    .dataframe tbody tr th:only-of-type {\n",
       "        vertical-align: middle;\n",
       "    }\n",
       "\n",
       "    .dataframe tbody tr th {\n",
       "        vertical-align: top;\n",
       "    }\n",
       "\n",
       "    .dataframe thead th {\n",
       "        text-align: right;\n",
       "    }\n",
       "</style>\n",
       "<table border=\"1\" class=\"dataframe\">\n",
       "  <thead>\n",
       "    <tr style=\"text-align: right;\">\n",
       "      <th></th>\n",
       "      <th>resourceType</th>\n",
       "      <th>id</th>\n",
       "      <th>status</th>\n",
       "      <th>intent</th>\n",
       "      <th>dosageInstruction</th>\n",
       "      <th>meta.versionId</th>\n",
       "      <th>meta.lastUpdated</th>\n",
       "      <th>meta.source</th>\n",
       "      <th>text.status</th>\n",
       "      <th>text.div</th>\n",
       "      <th>...</th>\n",
       "      <th>subject.reference</th>\n",
       "      <th>dispenseRequest.numberOfRepeatsAllowed</th>\n",
       "      <th>dispenseRequest.quantity.value</th>\n",
       "      <th>dispenseRequest.quantity.unit</th>\n",
       "      <th>dispenseRequest.quantity.system</th>\n",
       "      <th>dispenseRequest.quantity.code</th>\n",
       "      <th>dispenseRequest.expectedSupplyDuration.value</th>\n",
       "      <th>dispenseRequest.expectedSupplyDuration.unit</th>\n",
       "      <th>dispenseRequest.expectedSupplyDuration.system</th>\n",
       "      <th>dispenseRequest.expectedSupplyDuration.code</th>\n",
       "    </tr>\n",
       "  </thead>\n",
       "  <tbody>\n",
       "    <tr>\n",
       "      <th>0</th>\n",
       "      <td>MedicationRequest</td>\n",
       "      <td>smart-MedicationRequest-101</td>\n",
       "      <td>active</td>\n",
       "      <td>order</td>\n",
       "      <td>[{'text': '10 mL bid', 'timing': {'repeat': {'...</td>\n",
       "      <td>1</td>\n",
       "      <td>2020-07-15T02:51:25.000+00:00</td>\n",
       "      <td>#KQSArAdbxORTtqVw</td>\n",
       "      <td>generated</td>\n",
       "      <td>&lt;div xmlns=\"http://www.w3.org/1999/xhtml\"&gt;Niza...</td>\n",
       "      <td>...</td>\n",
       "      <td>Patient/smart-1032702</td>\n",
       "      <td>1</td>\n",
       "      <td>1.0</td>\n",
       "      <td>mL</td>\n",
       "      <td>http://unitsofmeasure.org</td>\n",
       "      <td>mL</td>\n",
       "      <td>30</td>\n",
       "      <td>days</td>\n",
       "      <td>http://unitsofmeasure.org</td>\n",
       "      <td>d</td>\n",
       "    </tr>\n",
       "    <tr>\n",
       "      <th>1</th>\n",
       "      <td>MedicationRequest</td>\n",
       "      <td>smart-MedicationRequest-102</td>\n",
       "      <td>active</td>\n",
       "      <td>order</td>\n",
       "      <td>[{'text': '7 mL bid x 10 days', 'timing': {'re...</td>\n",
       "      <td>1</td>\n",
       "      <td>2020-07-15T02:51:26.000+00:00</td>\n",
       "      <td>#WnCTEkK79sEBIQNe</td>\n",
       "      <td>generated</td>\n",
       "      <td>&lt;div xmlns=\"http://www.w3.org/1999/xhtml\"&gt;Amox...</td>\n",
       "      <td>...</td>\n",
       "      <td>Patient/smart-1081332</td>\n",
       "      <td>1</td>\n",
       "      <td>1.0</td>\n",
       "      <td>mL</td>\n",
       "      <td>http://unitsofmeasure.org</td>\n",
       "      <td>mL</td>\n",
       "      <td>10</td>\n",
       "      <td>days</td>\n",
       "      <td>http://unitsofmeasure.org</td>\n",
       "      <td>d</td>\n",
       "    </tr>\n",
       "    <tr>\n",
       "      <th>2</th>\n",
       "      <td>MedicationRequest</td>\n",
       "      <td>smart-MedicationRequest-103</td>\n",
       "      <td>active</td>\n",
       "      <td>order</td>\n",
       "      <td>[{'text': '5 mL bid x 10 days', 'timing': {'re...</td>\n",
       "      <td>1</td>\n",
       "      <td>2020-07-15T02:51:26.000+00:00</td>\n",
       "      <td>#WnCTEkK79sEBIQNe</td>\n",
       "      <td>generated</td>\n",
       "      <td>&lt;div xmlns=\"http://www.w3.org/1999/xhtml\"&gt;Amox...</td>\n",
       "      <td>...</td>\n",
       "      <td>Patient/smart-1081332</td>\n",
       "      <td>1</td>\n",
       "      <td>1.0</td>\n",
       "      <td>mL</td>\n",
       "      <td>http://unitsofmeasure.org</td>\n",
       "      <td>mL</td>\n",
       "      <td>10</td>\n",
       "      <td>days</td>\n",
       "      <td>http://unitsofmeasure.org</td>\n",
       "      <td>d</td>\n",
       "    </tr>\n",
       "    <tr>\n",
       "      <th>3</th>\n",
       "      <td>MedicationRequest</td>\n",
       "      <td>smart-MedicationRequest-104</td>\n",
       "      <td>active</td>\n",
       "      <td>order</td>\n",
       "      <td>[{'text': '15 mL daily x 3 days', 'timing': {'...</td>\n",
       "      <td>1</td>\n",
       "      <td>2020-07-15T02:51:26.000+00:00</td>\n",
       "      <td>#WnCTEkK79sEBIQNe</td>\n",
       "      <td>generated</td>\n",
       "      <td>&lt;div xmlns=\"http://www.w3.org/1999/xhtml\"&gt;Azit...</td>\n",
       "      <td>...</td>\n",
       "      <td>Patient/smart-1081332</td>\n",
       "      <td>1</td>\n",
       "      <td>1.0</td>\n",
       "      <td>mL</td>\n",
       "      <td>http://unitsofmeasure.org</td>\n",
       "      <td>mL</td>\n",
       "      <td>3</td>\n",
       "      <td>days</td>\n",
       "      <td>http://unitsofmeasure.org</td>\n",
       "      <td>d</td>\n",
       "    </tr>\n",
       "    <tr>\n",
       "      <th>4</th>\n",
       "      <td>MedicationRequest</td>\n",
       "      <td>smart-MedicationRequest-105</td>\n",
       "      <td>active</td>\n",
       "      <td>order</td>\n",
       "      <td>[{'text': '7 mL bid x 10 days', 'timing': {'re...</td>\n",
       "      <td>1</td>\n",
       "      <td>2020-07-15T02:51:26.000+00:00</td>\n",
       "      <td>#WnCTEkK79sEBIQNe</td>\n",
       "      <td>generated</td>\n",
       "      <td>&lt;div xmlns=\"http://www.w3.org/1999/xhtml\"&gt;cefd...</td>\n",
       "      <td>...</td>\n",
       "      <td>Patient/smart-1081332</td>\n",
       "      <td>1</td>\n",
       "      <td>1.0</td>\n",
       "      <td>mL</td>\n",
       "      <td>http://unitsofmeasure.org</td>\n",
       "      <td>mL</td>\n",
       "      <td>10</td>\n",
       "      <td>days</td>\n",
       "      <td>http://unitsofmeasure.org</td>\n",
       "      <td>d</td>\n",
       "    </tr>\n",
       "  </tbody>\n",
       "</table>\n",
       "<p>5 rows × 22 columns</p>\n",
       "</div>"
      ],
      "text/plain": [
       "        resourceType                           id  status intent  \\\n",
       "0  MedicationRequest  smart-MedicationRequest-101  active  order   \n",
       "1  MedicationRequest  smart-MedicationRequest-102  active  order   \n",
       "2  MedicationRequest  smart-MedicationRequest-103  active  order   \n",
       "3  MedicationRequest  smart-MedicationRequest-104  active  order   \n",
       "4  MedicationRequest  smart-MedicationRequest-105  active  order   \n",
       "\n",
       "                                   dosageInstruction meta.versionId  \\\n",
       "0  [{'text': '10 mL bid', 'timing': {'repeat': {'...              1   \n",
       "1  [{'text': '7 mL bid x 10 days', 'timing': {'re...              1   \n",
       "2  [{'text': '5 mL bid x 10 days', 'timing': {'re...              1   \n",
       "3  [{'text': '15 mL daily x 3 days', 'timing': {'...              1   \n",
       "4  [{'text': '7 mL bid x 10 days', 'timing': {'re...              1   \n",
       "\n",
       "                meta.lastUpdated        meta.source text.status  \\\n",
       "0  2020-07-15T02:51:25.000+00:00  #KQSArAdbxORTtqVw   generated   \n",
       "1  2020-07-15T02:51:26.000+00:00  #WnCTEkK79sEBIQNe   generated   \n",
       "2  2020-07-15T02:51:26.000+00:00  #WnCTEkK79sEBIQNe   generated   \n",
       "3  2020-07-15T02:51:26.000+00:00  #WnCTEkK79sEBIQNe   generated   \n",
       "4  2020-07-15T02:51:26.000+00:00  #WnCTEkK79sEBIQNe   generated   \n",
       "\n",
       "                                            text.div  ...  \\\n",
       "0  <div xmlns=\"http://www.w3.org/1999/xhtml\">Niza...  ...   \n",
       "1  <div xmlns=\"http://www.w3.org/1999/xhtml\">Amox...  ...   \n",
       "2  <div xmlns=\"http://www.w3.org/1999/xhtml\">Amox...  ...   \n",
       "3  <div xmlns=\"http://www.w3.org/1999/xhtml\">Azit...  ...   \n",
       "4  <div xmlns=\"http://www.w3.org/1999/xhtml\">cefd...  ...   \n",
       "\n",
       "       subject.reference dispenseRequest.numberOfRepeatsAllowed  \\\n",
       "0  Patient/smart-1032702                                      1   \n",
       "1  Patient/smart-1081332                                      1   \n",
       "2  Patient/smart-1081332                                      1   \n",
       "3  Patient/smart-1081332                                      1   \n",
       "4  Patient/smart-1081332                                      1   \n",
       "\n",
       "  dispenseRequest.quantity.value  dispenseRequest.quantity.unit  \\\n",
       "0                            1.0                             mL   \n",
       "1                            1.0                             mL   \n",
       "2                            1.0                             mL   \n",
       "3                            1.0                             mL   \n",
       "4                            1.0                             mL   \n",
       "\n",
       "   dispenseRequest.quantity.system dispenseRequest.quantity.code  \\\n",
       "0        http://unitsofmeasure.org                            mL   \n",
       "1        http://unitsofmeasure.org                            mL   \n",
       "2        http://unitsofmeasure.org                            mL   \n",
       "3        http://unitsofmeasure.org                            mL   \n",
       "4        http://unitsofmeasure.org                            mL   \n",
       "\n",
       "  dispenseRequest.expectedSupplyDuration.value  \\\n",
       "0                                           30   \n",
       "1                                           10   \n",
       "2                                           10   \n",
       "3                                            3   \n",
       "4                                           10   \n",
       "\n",
       "  dispenseRequest.expectedSupplyDuration.unit  \\\n",
       "0                                        days   \n",
       "1                                        days   \n",
       "2                                        days   \n",
       "3                                        days   \n",
       "4                                        days   \n",
       "\n",
       "   dispenseRequest.expectedSupplyDuration.system  \\\n",
       "0                      http://unitsofmeasure.org   \n",
       "1                      http://unitsofmeasure.org   \n",
       "2                      http://unitsofmeasure.org   \n",
       "3                      http://unitsofmeasure.org   \n",
       "4                      http://unitsofmeasure.org   \n",
       "\n",
       "  dispenseRequest.expectedSupplyDuration.code  \n",
       "0                                           d  \n",
       "1                                           d  \n",
       "2                                           d  \n",
       "3                                           d  \n",
       "4                                           d  \n",
       "\n",
       "[5 rows x 22 columns]"
      ]
     },
     "execution_count": 4,
     "metadata": {},
     "output_type": "execute_result"
    }
   ],
   "source": [
    "dfprescriptions = pd.json_normalize(prescriptions)\n",
    "dfprescriptions.head()"
   ]
  },
  {
   "cell_type": "markdown",
   "metadata": {},
   "source": [
    "As we can see, certain fields, such as status and even subject.reference are immediately usable in their current form. For others, specifically the actual RX code, we're going to need to do further work. "
   ]
  },
  {
   "cell_type": "markdown",
   "metadata": {},
   "source": [
    "So we now have a basic datafame with drug and patient information. Before we can begin trying to construct a parser, we need to examine our API to see how data is submitted and returned."
   ]
  },
  {
   "cell_type": "markdown",
   "metadata": {},
   "source": [
    "## Step 2: Determine how to query the API and then construct a mechanism to feed our patient info into that API to determine if a known Drug on Drug Interaction could occur."
   ]
  },
  {
   "cell_type": "markdown",
   "metadata": {},
   "source": [
    "Reviewing the NIH's RX Norm database documentation. Link here: https://lhncbc.nlm.nih.gov/RxNav/APIs/index.html\n",
    "\n",
    "We see one clear option we have to use is the RX CUI code using the six-digit NDC code\n",
    "https://lhncbc.nlm.nih.gov/RxNav/APIs/api-RxNorm.getNDCs.html\n",
    "\n",
    "This correllates with our Patient data column: resource.medicationCodeableConcept.codingcodes (quite a mouthful!, but we'll deal with that shortly).\n",
    "\n",
    "Let's pull a sample interaction using the following general notation:\n",
    "\n",
    "URL/list.json?rxcuis=[code 1]+[code 2]\n",
    "\n",
    "Where the URL is: https://rxnav.nlm.nih.gov/REST/interaction/\n",
    "and the two codes we'll try are: 207106 and 656659\n",
    "\n",
    "Convert the response into JSON format and output it to see what sort of information the API contains"
   ]
  },
  {
   "cell_type": "code",
   "execution_count": 5,
   "metadata": {
    "scrolled": false
   },
   "outputs": [
    {
     "data": {
      "text/plain": [
       "{'nlmDisclaimer': 'It is not the intention of NLM to provide specific medical advice, but rather to provide users with information to better understand their health and their medications. NLM urges you to consult with a qualified physician for advice about medications.',\n",
       " 'fullInteractionTypeGroup': [{'sourceDisclaimer': 'DrugBank is intended for educational and scientific research purposes only and you expressly acknowledge and agree that use of DrugBank is at your sole risk. The accuracy of DrugBank information is not guaranteed and reliance on DrugBank shall be at your sole risk. DrugBank is not intended as a substitute for professional medical advice, diagnosis or treatment..[www.drugbank.ca]',\n",
       "   'sourceName': 'DrugBank',\n",
       "   'fullInteractionType': [{'comment': 'Drug1 (rxcui = 207106, name = fluconazole 50 MG Oral Tablet [Diflucan], tty = SBD). Drug2 (rxcui = 656659, name = bosentan 125 MG Oral Tablet, tty = SCD). Drug1 is resolved to fluconazole, Drug2 is resolved to bosentan and interaction asserted in DrugBank between Fluconazole and Bosentan. Drug1 is resolved to fluconazole, Drug2 is resolved to bosentan anhydrous and interaction asserted in DrugBank between Fluconazole and Bosentan.',\n",
       "     'minConcept': [{'rxcui': '207106',\n",
       "       'name': 'fluconazole 50 MG Oral Tablet [Diflucan]',\n",
       "       'tty': 'SBD'},\n",
       "      {'rxcui': '656659',\n",
       "       'name': 'bosentan 125 MG Oral Tablet',\n",
       "       'tty': 'SCD'}],\n",
       "     'interactionPair': [{'interactionConcept': [{'minConceptItem': {'rxcui': '4450',\n",
       "          'name': 'fluconazole',\n",
       "          'tty': 'IN'},\n",
       "         'sourceConceptItem': {'id': 'DB00196',\n",
       "          'name': 'Fluconazole',\n",
       "          'url': 'https://go.drugbank.com/drugs/DB00196#interactions'}},\n",
       "        {'minConceptItem': {'rxcui': '1468845',\n",
       "          'name': 'bosentan anhydrous',\n",
       "          'tty': 'PIN'},\n",
       "         'sourceConceptItem': {'id': 'DB00559',\n",
       "          'name': 'Bosentan',\n",
       "          'url': 'https://go.drugbank.com/drugs/DB00559#interactions'}}],\n",
       "       'severity': 'N/A',\n",
       "       'description': 'The metabolism of Bosentan can be decreased when combined with Fluconazole.'},\n",
       "      {'interactionConcept': [{'minConceptItem': {'rxcui': '4450',\n",
       "          'name': 'fluconazole',\n",
       "          'tty': 'IN'},\n",
       "         'sourceConceptItem': {'id': 'DB00196',\n",
       "          'name': 'Fluconazole',\n",
       "          'url': 'https://go.drugbank.com/drugs/DB00196#interactions'}},\n",
       "        {'minConceptItem': {'rxcui': '75207', 'name': 'bosentan', 'tty': 'IN'},\n",
       "         'sourceConceptItem': {'id': 'DB00559',\n",
       "          'name': 'Bosentan',\n",
       "          'url': 'https://go.drugbank.com/drugs/DB00559#interactions'}}],\n",
       "       'severity': 'N/A',\n",
       "       'description': 'The metabolism of Bosentan can be decreased when combined with Fluconazole.'}]}]}]}"
      ]
     },
     "execution_count": 5,
     "metadata": {},
     "output_type": "execute_result"
    }
   ],
   "source": [
    "url = 'https://rxnav.nlm.nih.gov/REST/interaction/list.json?rxcuis=207106+656659'\n",
    "response = (requests.get(url).text)\n",
    "response_json = json.loads(response)\n",
    "response_json"
   ]
  },
  {
   "cell_type": "markdown",
   "metadata": {},
   "source": [
    "Now let's try one additional combination of drugs: 762675 and 859258, and let's see what is output."
   ]
  },
  {
   "cell_type": "code",
   "execution_count": 6,
   "metadata": {
    "scrolled": false
   },
   "outputs": [
    {
     "data": {
      "text/plain": [
       "{'nlmDisclaimer': 'It is not the intention of NLM to provide specific medical advice, but rather to provide users with information to better understand their health and their medications. NLM urges you to consult with a qualified physician for advice about medications.'}"
      ]
     },
     "execution_count": 6,
     "metadata": {},
     "output_type": "execute_result"
    }
   ],
   "source": [
    "url = 'https://rxnav.nlm.nih.gov/REST/interaction/list.json?rxcuis=762675+859258'\n",
    "response = (requests.get(url).text)\n",
    "response_json = json.loads(response)\n",
    "response_json"
   ]
  },
  {
   "cell_type": "markdown",
   "metadata": {},
   "source": [
    "We now have a clear mechanism for querying the API, and an understanding of how the API returns when there is a Drug interaction versus when there isn't.\n",
    "\n",
    "We now have a target to work toward! For each patient, we need to compile a list of RXCUI codes and then append them to our NIH API query with a '+' between each code! Let's go about constructing that!"
   ]
  },
  {
   "cell_type": "markdown",
   "metadata": {},
   "source": [
    "## Step 3: Construct a composite list of all drugs per-patient (so we can determine a potential Drug on Drug interaction"
   ]
  },
  {
   "cell_type": "markdown",
   "metadata": {},
   "source": [
    "So now we know that in order to engage our RXNorm server we need to extract and submit our six digit RXCUI code, let's go back to our original mappedJSON file and try to do a list comprehension to extract the specific code.\n",
    "\n",
    "Then wrapping that within a Series function and executing a to_frame() method on the resulting series, we can create a dataframe with our desired RXCode"
   ]
  },
  {
   "cell_type": "code",
   "execution_count": 7,
   "metadata": {},
   "outputs": [],
   "source": [
    "rxcodes = pd.Series([codings['code'] for MedicationRequest in prescriptions for codings in MedicationRequest['medicationCodeableConcept']['coding']], name='rxcode')\n",
    "\n",
    "dfcode = rxcodes.to_frame()"
   ]
  },
  {
   "cell_type": "code",
   "execution_count": 8,
   "metadata": {
    "scrolled": true
   },
   "outputs": [
    {
     "data": {
      "text/html": [
       "<div>\n",
       "<style scoped>\n",
       "    .dataframe tbody tr th:only-of-type {\n",
       "        vertical-align: middle;\n",
       "    }\n",
       "\n",
       "    .dataframe tbody tr th {\n",
       "        vertical-align: top;\n",
       "    }\n",
       "\n",
       "    .dataframe thead th {\n",
       "        text-align: right;\n",
       "    }\n",
       "</style>\n",
       "<table border=\"1\" class=\"dataframe\">\n",
       "  <thead>\n",
       "    <tr style=\"text-align: right;\">\n",
       "      <th></th>\n",
       "      <th>rxcode</th>\n",
       "    </tr>\n",
       "  </thead>\n",
       "  <tbody>\n",
       "    <tr>\n",
       "      <th>0</th>\n",
       "      <td>582620</td>\n",
       "    </tr>\n",
       "    <tr>\n",
       "      <th>1</th>\n",
       "      <td>308189</td>\n",
       "    </tr>\n",
       "    <tr>\n",
       "      <th>2</th>\n",
       "      <td>617993</td>\n",
       "    </tr>\n",
       "    <tr>\n",
       "      <th>3</th>\n",
       "      <td>211307</td>\n",
       "    </tr>\n",
       "    <tr>\n",
       "      <th>4</th>\n",
       "      <td>261091</td>\n",
       "    </tr>\n",
       "  </tbody>\n",
       "</table>\n",
       "</div>"
      ],
      "text/plain": [
       "   rxcode\n",
       "0  582620\n",
       "1  308189\n",
       "2  617993\n",
       "3  211307\n",
       "4  261091"
      ]
     },
     "execution_count": 8,
     "metadata": {},
     "output_type": "execute_result"
    }
   ],
   "source": [
    "dfcode.head()"
   ]
  },
  {
   "cell_type": "markdown",
   "metadata": {},
   "source": [
    "As a first step let's extract the three features we need: 'subject.reference', 'status' and 'rxcode'!"
   ]
  },
  {
   "cell_type": "markdown",
   "metadata": {},
   "source": [
    "Let's now clean up our dataframe, by purging the columns we don't intend to use, and adding our code columns"
   ]
  },
  {
   "cell_type": "code",
   "execution_count": 9,
   "metadata": {},
   "outputs": [
    {
     "name": "stdout",
     "output_type": "stream",
     "text": [
      "<class 'pandas.core.frame.DataFrame'>\n",
      "RangeIndex: 50 entries, 0 to 49\n",
      "Data columns (total 2 columns):\n",
      " #   Column             Non-Null Count  Dtype \n",
      "---  ------             --------------  ----- \n",
      " 0   subject.reference  50 non-null     object\n",
      " 1   status             50 non-null     object\n",
      "dtypes: object(2)\n",
      "memory usage: 928.0+ bytes\n"
     ]
    }
   ],
   "source": [
    "dffinal = dfprescriptions[['subject.reference', 'status']]\n",
    "dffinal.info()"
   ]
  },
  {
   "cell_type": "code",
   "execution_count": 10,
   "metadata": {},
   "outputs": [
    {
     "name": "stderr",
     "output_type": "stream",
     "text": [
      "/opt/anaconda3/lib/python3.7/site-packages/ipykernel_launcher.py:1: SettingWithCopyWarning: \n",
      "A value is trying to be set on a copy of a slice from a DataFrame.\n",
      "Try using .loc[row_indexer,col_indexer] = value instead\n",
      "\n",
      "See the caveats in the documentation: https://pandas.pydata.org/pandas-docs/stable/user_guide/indexing.html#returning-a-view-versus-a-copy\n",
      "  \"\"\"Entry point for launching an IPython kernel.\n"
     ]
    }
   ],
   "source": [
    "dffinal['rxcode'] = dfcode['rxcode']"
   ]
  },
  {
   "cell_type": "code",
   "execution_count": 11,
   "metadata": {},
   "outputs": [
    {
     "data": {
      "text/html": [
       "<div>\n",
       "<style scoped>\n",
       "    .dataframe tbody tr th:only-of-type {\n",
       "        vertical-align: middle;\n",
       "    }\n",
       "\n",
       "    .dataframe tbody tr th {\n",
       "        vertical-align: top;\n",
       "    }\n",
       "\n",
       "    .dataframe thead th {\n",
       "        text-align: right;\n",
       "    }\n",
       "</style>\n",
       "<table border=\"1\" class=\"dataframe\">\n",
       "  <thead>\n",
       "    <tr style=\"text-align: right;\">\n",
       "      <th></th>\n",
       "      <th>subject.reference</th>\n",
       "      <th>status</th>\n",
       "      <th>rxcode</th>\n",
       "    </tr>\n",
       "  </thead>\n",
       "  <tbody>\n",
       "    <tr>\n",
       "      <th>0</th>\n",
       "      <td>Patient/smart-1032702</td>\n",
       "      <td>active</td>\n",
       "      <td>582620</td>\n",
       "    </tr>\n",
       "    <tr>\n",
       "      <th>1</th>\n",
       "      <td>Patient/smart-1081332</td>\n",
       "      <td>active</td>\n",
       "      <td>308189</td>\n",
       "    </tr>\n",
       "    <tr>\n",
       "      <th>2</th>\n",
       "      <td>Patient/smart-1081332</td>\n",
       "      <td>active</td>\n",
       "      <td>617993</td>\n",
       "    </tr>\n",
       "    <tr>\n",
       "      <th>3</th>\n",
       "      <td>Patient/smart-1081332</td>\n",
       "      <td>active</td>\n",
       "      <td>211307</td>\n",
       "    </tr>\n",
       "    <tr>\n",
       "      <th>4</th>\n",
       "      <td>Patient/smart-1081332</td>\n",
       "      <td>active</td>\n",
       "      <td>261091</td>\n",
       "    </tr>\n",
       "  </tbody>\n",
       "</table>\n",
       "</div>"
      ],
      "text/plain": [
       "       subject.reference  status  rxcode\n",
       "0  Patient/smart-1032702  active  582620\n",
       "1  Patient/smart-1081332  active  308189\n",
       "2  Patient/smart-1081332  active  617993\n",
       "3  Patient/smart-1081332  active  211307\n",
       "4  Patient/smart-1081332  active  261091"
      ]
     },
     "execution_count": 11,
     "metadata": {},
     "output_type": "execute_result"
    }
   ],
   "source": [
    "dffinal.head()"
   ]
  },
  {
   "cell_type": "markdown",
   "metadata": {},
   "source": [
    "Finally we want to ensure that we're only querying active prescriptions, as if a patient is no longer taking a drug, the risk of a Drug-on-Drug interaction is no longer applicable"
   ]
  },
  {
   "cell_type": "code",
   "execution_count": 12,
   "metadata": {},
   "outputs": [
    {
     "data": {
      "text/plain": [
       "active    50\n",
       "Name: status, dtype: int64"
      ]
     },
     "execution_count": 12,
     "metadata": {},
     "output_type": "execute_result"
    }
   ],
   "source": [
    "dffinal.status.value_counts()"
   ]
  },
  {
   "cell_type": "markdown",
   "metadata": {},
   "source": [
    "Now we are ready to rumble! Let's now use a modified GroupBy function to merge our drugs by patient."
   ]
  },
  {
   "cell_type": "code",
   "execution_count": 13,
   "metadata": {},
   "outputs": [
    {
     "data": {
      "text/plain": [
       "subject.reference\n",
       "Patient/smart-1032702                                             [582620]\n",
       "Patient/smart-1081332    [308189, 617993, 211307, 261091, 404630, 23919...\n",
       "Patient/smart-1098667             [150840, 309462, 310333, 351396, 310893]\n",
       "Patient/smart-1134281    [239191, 352027, 104884, 755272, 308189, 10634...\n",
       "Patient/smart-1137192    [308607, 312961, 381056, 866511, 866514, 19758...\n",
       "Name: rxcode, dtype: object"
      ]
     },
     "execution_count": 13,
     "metadata": {},
     "output_type": "execute_result"
    }
   ],
   "source": [
    "groups_by_patient = dffinal.groupby('subject.reference', sort=False)['rxcode'].apply(lambda x: x.values.tolist())\n",
    "groups_by_patient.head()"
   ]
  },
  {
   "cell_type": "markdown",
   "metadata": {},
   "source": [
    "ok so now we've generated a list of active prescriptions for each patient, we can now append this list to the RXNav query and determine whether each of these patients may have a drug on drug interaction"
   ]
  },
  {
   "cell_type": "markdown",
   "metadata": {},
   "source": [
    "## Step 4: Construct a program to loop through our entire cohort and determine the aggregate risk."
   ]
  },
  {
   "cell_type": "markdown",
   "metadata": {},
   "source": [
    "Ok so to recap: we now have a list of patients with associated rx codes in list form, and we have a mechanism to query the RXNav API to determin if a Drug on Drug interaction exists. As a last step let's create a series of functions to iterate through our patient list and for each patient return whether or not a Drug on Drug interaction could occur"
   ]
  },
  {
   "cell_type": "code",
   "execution_count": 22,
   "metadata": {},
   "outputs": [],
   "source": [
    "# Declare variables for patient index counting and the sum total of potential drug interactions\n",
    "count_drug_int = 0\n",
    "patient_index = 0"
   ]
  },
  {
   "cell_type": "code",
   "execution_count": 16,
   "metadata": {},
   "outputs": [],
   "source": [
    "# Function for calling NIH API\n",
    "def get_api_data(drug_list):\n",
    "    try:\n",
    "        url = 'https://rxnav.nlm.nih.gov/REST/interaction/list.json?rxcuis=' + drug_list\n",
    "        response = (requests.get(url).text)\n",
    "        response_json = json.loads(response)\n",
    "        return response_json\n",
    "\n",
    "    except Exception as e:\n",
    "        raise e"
   ]
  },
  {
   "cell_type": "code",
   "execution_count": 23,
   "metadata": {},
   "outputs": [
    {
     "name": "stdout",
     "output_type": "stream",
     "text": [
      "For Patient/smart-1032702\n",
      "No known drug interaction for drugs:  582620 \n",
      "\n",
      "For Patient/smart-1081332\n",
      "Possible Drug interaction for Drugs:  308189+617993+211307+261091+404630+239191+208406 \n",
      "\n",
      "For Patient/smart-1098667\n",
      "No known drug interaction for drugs:  150840+309462+310333+351396+310893 \n",
      "\n",
      "For Patient/smart-1134281\n",
      "Possible Drug interaction for Drugs:  239191+352027+104884+755272+308189+106346+617423 \n",
      "\n",
      "For Patient/smart-1137192\n",
      "Possible Drug interaction for Drugs:  308607+312961+381056+866511+866514+197589+762675 \n",
      "\n",
      "For Patient/smart-1157764\n",
      "No known drug interaction for drugs:  151124+877300+311992+285128 \n",
      "\n",
      "For Patient/smart-1186747\n",
      "Possible Drug interaction for Drugs:  745679+404473+284429+404630+352318+352319+745752 \n",
      "\n",
      "For Patient/smart-1288992\n",
      "Possible Drug interaction for Drugs:  314077+404673+153357+197770+199381 \n",
      "\n",
      "For Patient/smart-1482713\n",
      "No known drug interaction for drugs:  106256+197803+313960+198305+309367 \n",
      "\n",
      "For Patient/smart-1557780\n",
      "No known drug interaction for drugs:  762675+859258 \n",
      "\n",
      "Total number of possible drug interactions in patient cohort:  5\n"
     ]
    }
   ],
   "source": [
    "# Iterate through each patient list of medications\n",
    "for drug_list in groups_by_patient:\n",
    "    print('For',dffinal['subject.reference'][patient_index])\n",
    "    joined_drug_list = \"+\".join(str(i) for i in drug_list)\n",
    "    data = get_api_data(joined_drug_list) # returns JSON response\n",
    "    if 'fullInteractionTypeGroup' not in data:\n",
    "        print('No known drug interaction for drugs: ', joined_drug_list,'\\n')\n",
    "        patient_index += len(drug_list)\n",
    "        continue\n",
    "    count_drug_int += 1\n",
    "    patient_index += len(drug_list)\n",
    "    print('Possible Drug interaction for Drugs: ', joined_drug_list,'\\n')\n",
    "patient_index +=1\n",
    "\n",
    "print('Total number of possible drug interactions in patient cohort: ', count_drug_int)"
   ]
  },
  {
   "cell_type": "markdown",
   "metadata": {},
   "source": [
    "## Summary\n",
    "\n",
    "So this is a really interesting example of how FHIR data can interact with the broader ecosystem of Healthcare data and resources to determine additional health care insights. Here we pulled data from multiple resources into a unified dataframe, and then modified how the data was stored in order to pass it through to a third-party API and determine health outcomes."
   ]
  }
 ],
 "metadata": {
  "kernelspec": {
   "display_name": "Python 3",
   "language": "python",
   "name": "python3"
  },
  "language_info": {
   "codemirror_mode": {
    "name": "ipython",
    "version": 3
   },
   "file_extension": ".py",
   "mimetype": "text/x-python",
   "name": "python",
   "nbconvert_exporter": "python",
   "pygments_lexer": "ipython3",
   "version": "3.7.4"
  }
 },
 "nbformat": 4,
 "nbformat_minor": 5
}
