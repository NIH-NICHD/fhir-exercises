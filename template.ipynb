{
 "cells": [
  {
   "cell_type": "markdown",
   "id": "governing-opening",
   "metadata": {},
   "source": [
    "# {Title}"
   ]
  },
  {
   "cell_type": "markdown",
   "id": "abroad-yorkshire",
   "metadata": {},
   "source": [
    "Intro: see https://github.com/NIH-NCPI/fhir-101/blob/master/FHIR%20101%20-%20Practical%20Guide.ipynb as a great example\n",
    "\n",
    "## What is this notebook?\n",
    "\n",
    "(common overview of the FHIR Training)\n",
    "\n",
    "(overview of this specific notebook)\n",
    "\n",
    "\n",
    "\n",
    "\n",
    "### Icons in this Guide\n",
    " 📘 A link to a useful external reference related to the section the icon appears in  \n",
    "\n",
    " ⚡️ A key takeaway for the section that this icon appears in  \n",
    "\n",
    " 🖐 A hands-on section where you will code something or interact with the server  \n",
    "\n",
    "\n",
    "(any required MITRE legalese should either go here or at the very bottom of the notebook)"
   ]
  },
  {
   "cell_type": "markdown",
   "id": "broken-foundation",
   "metadata": {},
   "source": [
    "## Motivation / Purpose"
   ]
  },
  {
   "cell_type": "markdown",
   "id": "interim-allergy",
   "metadata": {},
   "source": [
    "## Scenario\n",
    "\n",
    "(this section describes the specifics of the use case: what is the problem statement, what is the basic approach we are going to take, etc)\n"
   ]
  },
  {
   "cell_type": "markdown",
   "id": "regular-english",
   "metadata": {},
   "source": [
    "## Initial Setup"
   ]
  },
  {
   "cell_type": "code",
   "execution_count": null,
   "id": "enhanced-kazakhstan",
   "metadata": {},
   "outputs": [],
   "source": [
    "# import any required libraries here.\n",
    "#  - requests\n",
    "#  - fhirclient: https://github.com/smart-on-fhir/client-py\n",
    "#  - Pandas - DataFrames\n",
    "#  - NumPy - basic data analysis\n",
    "#  - matplotlib\n",
    "#  - maybe seaborn for viz on top of matplotlib ?"
   ]
  },
  {
   "cell_type": "markdown",
   "id": "boolean-playback",
   "metadata": {},
   "source": [
    "## Step 1"
   ]
  },
  {
   "cell_type": "code",
   "execution_count": null,
   "id": "caroline-tuner",
   "metadata": {},
   "outputs": [],
   "source": []
  },
  {
   "cell_type": "markdown",
   "id": "objective-compound",
   "metadata": {},
   "source": [
    "## Step 2"
   ]
  },
  {
   "cell_type": "code",
   "execution_count": null,
   "id": "asian-leisure",
   "metadata": {},
   "outputs": [],
   "source": []
  },
  {
   "cell_type": "markdown",
   "id": "personalized-green",
   "metadata": {},
   "source": [
    "## Step 3"
   ]
  },
  {
   "cell_type": "code",
   "execution_count": null,
   "id": "biblical-investigation",
   "metadata": {},
   "outputs": [],
   "source": []
  },
  {
   "cell_type": "code",
   "execution_count": null,
   "id": "electronic-latino",
   "metadata": {},
   "outputs": [],
   "source": []
  },
  {
   "cell_type": "markdown",
   "id": "fiscal-seller",
   "metadata": {},
   "source": [
    "## Summary\n",
    "\n",
    "(A review of what was done in this notebook, possibly reinforcing how this kind of use case could be useful in the real world)"
   ]
  }
 ],
 "metadata": {
  "kernelspec": {
   "display_name": "Python 3",
   "language": "python",
   "name": "python3"
  },
  "language_info": {
   "codemirror_mode": {
    "name": "ipython",
    "version": 3
   },
   "file_extension": ".py",
   "mimetype": "text/x-python",
   "name": "python",
   "nbconvert_exporter": "python",
   "pygments_lexer": "ipython3",
   "version": "3.9.2"
  }
 },
 "nbformat": 4,
 "nbformat_minor": 5
}
