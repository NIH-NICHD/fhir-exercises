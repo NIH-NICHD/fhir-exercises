{
 "cells": [
  {
   "cell_type": "markdown",
   "id": "03b35ab1",
   "metadata": {},
   "source": [
    "# Populating a FHIR Server with Synthea Data"
   ]
  },
  {
   "cell_type": "markdown",
   "id": "e1f3e646",
   "metadata": {},
   "source": [
    "## Generating a Synthetic Patient Population\n",
    "\n",
    "Download [Synthea](https://github.com/synthetichealth/synthea)\n",
    "\n",
    "```shell\n",
    "git clone https://github.com/synthetichealth/synthea.git\n",
    "cd synthea\n",
    "```\n",
    "\n",
    "Generate a Synthetic Dataset of 1000 individuals\n",
    "\n",
    "```shell\n",
    "./run_synthea -p 1000\n",
    "```\n",
    "\n",
    "Once that's completed, we should have 1000 FHIR Bundles in `/output/fhir`. Copy that directory into the same directory as this notebook and we'll continue from there.\n",
    "\n",
    "You can also downloaded a recently geneated data set here: https://synthetichealth.github.io/synthea-sample-data/downloads/synthea_sample_data_fhir_r4_nov2021.zip\n"
   ]
  },
  {
   "cell_type": "code",
   "execution_count": 1,
   "id": "4fa02068-68e3-48b4-985c-91e2c33d1135",
   "metadata": {},
   "outputs": [],
   "source": [
    "import os\n",
    "import json\n",
    "import requests\n",
    "import glob\n",
    "import time\n",
    "from IPython.display import clear_output\n",
    "\n",
    "s = requests.Session()\n",
    "s.headers.update({'Accept':'application/fhir+json', 'Content-Type': 'application/fhir+json'})\n",
    "s.verify = False\n",
    "requests.packages.urllib3.disable_warnings()\n",
    "\n",
    "synthea_data_directory = 'fhir'\n",
    "fhir_server = 'https://api.logicahealth.org/opioids/open'"
   ]
  },
  {
   "cell_type": "code",
   "execution_count": 4,
   "id": "94aaf5d3",
   "metadata": {
    "collapsed": false,
    "jupyter": {
     "outputs_hidden": false
    },
    "pycharm": {
     "name": "#%%\n"
    }
   },
   "outputs": [],
   "source": [
    "# Grab the patient identifier from the transaction bundle\n",
    "def patient_identifier_in_transaction(transaction):\n",
    "    for entry in transaction['entry']:\n",
    "        if entry['resource']['resourceType'] == 'Patient':\n",
    "            identifier = entry['resource']['identifier'][0]\n",
    "            break\n",
    "    return f\"{identifier['system']}|{identifier['value']}\"\n",
    "\n",
    "# See if the patient record already exists on the server\n",
    "def record_on_server(filename):\n",
    "    with open(filename, 'r') as json_file:\n",
    "        file_content = json.load(json_file)\n",
    "        r = s.get(f\"{fhir_server}/Patient\", params={'identifier': patient_identifier_in_transaction(file_content)})\n",
    "        return 'entry' in r.json()\n",
    "\n",
    "def post_transaction_bundle(filename):\n",
    "    with open(filename, 'r') as json_file:\n",
    "        file_content = json.load(json_file)\n",
    "        r = s.post(fhir_server, data=json.dumps(file_content))\n",
    "        if not r.status_code == requests.codes.ok:\n",
    "            print(f'Failed to upload {filename}. Received Status Code {r.status_code}')\n",
    "            time.sleep(120)"
   ]
  },
  {
   "cell_type": "markdown",
   "id": "e5ab0534-f5a8-4c11-9e17-bf4184fb7ea4",
   "metadata": {},
   "source": [
    "Synthea puts the hospital (FHIR Organization Resources) and practitioner (FHIR Practitioner Resources) in separate transaction bundles that need to be loaded first.\n",
    "\n",
    "See the [Synthea FHIR Transaction Bundles Wiki Page](https://github.com/synthetichealth/synthea/wiki/FHIR-Transaction-Bundles) for more details.\n",
    "\n",
    "_Note: Depending on the server, you may experience timeouts when performing the following requests since it can take a few minutes for the FHIR server to process all the transactions in the bundle._"
   ]
  },
  {
   "cell_type": "code",
   "execution_count": 3,
   "id": "4650a861-17df-4cc6-befc-229131f09bef",
   "metadata": {},
   "outputs": [
    {
     "name": "stdout",
     "output_type": "stream",
     "text": [
      "Failed to upload fhir/hospitalInformation1640814769641.json. Received Status Code 504\n"
     ]
    }
   ],
   "source": [
    "# Post hospital transaction bundle\n",
    "post_transaction_bundle(glob.glob(os.path.join(synthea_data_directory, 'hospitalInformation*.json'))[0])"
   ]
  },
  {
   "cell_type": "code",
   "execution_count": 4,
   "id": "43d5d1d5-cf44-4d83-9ce1-d989f142cdee",
   "metadata": {},
   "outputs": [
    {
     "name": "stdout",
     "output_type": "stream",
     "text": [
      "Failed to upload fhir/practitionerInformation1640814769641.json. Received Status Code 504\n"
     ]
    }
   ],
   "source": [
    "# Post practitioner transaction bundle\n",
    "post_transaction_bundle(glob.glob(os.path.join(synthea_data_directory, 'practitionerInformation*.json'))[0])"
   ]
  },
  {
   "cell_type": "code",
   "execution_count": 5,
   "id": "b65abaa4-f908-4a4e-b125-be0087e677f5",
   "metadata": {},
   "outputs": [
    {
     "name": "stdout",
     "output_type": "stream",
     "text": [
      "fhir/Doloris378_Konopelski743_3c2f9134-21ad-ac38-1f7e-d9fa0e0c010b.json already loaded\n",
      "Failed to upload fhir/Sung603_Eichmann909_db97e2dd-206f-8b63-3639-64b76a6e461c.json. Received Status Code 504\n",
      "Failed to upload fhir/Thurman577_Kreiger457_aab1648e-2344-dc6e-f783-10860ce7f173.json. Received Status Code 504\n",
      "Failed to upload fhir/Helena807_Rowe323_f734c2a0-dc3a-a148-ee78-045ddbbb6408.json. Received Status Code 504\n",
      "fhir/Adena533_Heidenreich818_6603b8d0-ea29-e068-b13e-f8c1c94be1a0.json already loaded\n",
      "Failed to upload fhir/Logan497_Walter473_4784a127-25b3-2d20-188f-813248bdbb50.json. Received Status Code 504\n",
      "Failed to upload fhir/Versie644_Turner526_9e90ab3e-b8ad-f6a3-98fc-282e57ce6eef.json. Received Status Code 504\n",
      "Failed to upload fhir/Kathrine376_Corwin846_2417861b-0aeb-6be0-7ee4-8d4da85dd96f.json. Received Status Code 504\n",
      "Failed to upload fhir/Cheree978_Langosh790_dc78d8ba-9f53-4bbc-0bae-068cd990ae17.json. Received Status Code 504\n",
      "Failed to upload fhir/Benjamin360_O'Keefe54_079b64b7-2258-f557-df5e-f10542d3bd6f.json. Received Status Code 504\n",
      "Failed to upload fhir/Alton320_Schaden604_517bf342-701b-27d7-5117-3b0cb93ed323.json. Received Status Code 504\n",
      "Failed to upload fhir/China583_King743_5f0669e2-64a8-3830-edb6-11a2d59ac45e.json. Received Status Code 504\n",
      "Failed to upload fhir/Shawna986_Bruen238_6d0fb4e7-d9c4-12d4-635b-2d5d1bba7944.json. Received Status Code 504\n",
      "Failed to upload fhir/Belkis212_Dickinson688_8834038e-dc45-b543-d146-b2f2ae3d886f.json. Received Status Code 504\n",
      "Failed to upload fhir/Helga481_Schmeler639_a4e2c73f-5746-2460-9753-ebd88a6b5989.json. Received Status Code 504\n",
      "Failed to upload fhir/Soledad678_Fuentes250_a139aa50-d57c-67ba-bca6-98c5a2174947.json. Received Status Code 504\n",
      "Failed to upload fhir/Jc393_Kulas532_05958c05-2623-3ce3-2731-08567a7c37eb.json. Received Status Code 504\n",
      "Failed to upload fhir/Gale827_Schowalter414_0da24e5b-d98f-795a-f180-b66c155d9dbc.json. Received Status Code 504\n",
      "Failed to upload fhir/Rickie717_Wuckert783_063dbb6e-b6bd-18cf-e303-347254ab73a4.json. Received Status Code 504\n",
      "Failed to upload fhir/Marine542_Hand679_895ac864-9c71-9d27-db15-5f8533209f96.json. Received Status Code 504\n",
      "Failed to upload fhir/Horacio317_Carreón894_9f321afe-8732-b2ab-fb43-de040ad48661.json. Received Status Code 504\n",
      "Failed to upload fhir/Dagmar148_Marquardt819_7d95c8c2-8dbd-1277-fc81-d9914d87e274.json. Received Status Code 504\n",
      "Failed to upload fhir/Jeremy766_Torp761_33c613ef-3a61-6045-2218-d225fb00b175.json. Received Status Code 504\n",
      "Failed to upload fhir/Suanne858_Rutherford999_ec1e0042-2e95-89a8-ba79-c3499cf33998.json. Received Status Code 504\n",
      "Failed to upload fhir/Mike230_Herman763_399c912a-b098-3e70-9d16-ad47a8d39e82.json. Received Status Code 504\n",
      "Failed to upload fhir/Emanuel231_Green467_8a608b2d-cf9d-47bb-90fe-beaf919ac901.json. Received Status Code 504\n",
      "Failed to upload fhir/Caleb651_Friesen796_3322ac28-e5e1-d409-e2e5-3a384773bdb9.json. Received Status Code 504\n",
      "Failed to upload fhir/Glen190_Windler79_3c07af4b-588d-5985-c6b1-609084edecef.json. Received Status Code 504\n",
      "Failed to upload fhir/Jene106_Murray856_eded576e-f410-df1e-11d3-d36ef76e86a6.json. Received Status Code 504\n",
      "Failed to upload fhir/Reta616_Von197_09a21c52-c75a-1f80-14dd-48760679d865.json. Received Status Code 504\n",
      "Failed to upload fhir/Paul232_Balistreri607_2a8f7003-21c5-7a75-8bdd-8dacce1deac3.json. Received Status Code 504\n",
      "Failed to upload fhir/Rozanne215_Hamill307_433679ef-324b-bd79-0cf9-19b8164cfeb5.json. Received Status Code 504\n",
      "Failed to upload fhir/Shawna986_Schmidt332_81ce8a85-c66a-b6dd-1003-0bf1fb24eb43.json. Received Status Code 504\n",
      "Failed to upload fhir/Ailene520_Gutkowski940_60ca6799-1ea7-a13e-177e-0e1bcaeeedfe.json. Received Status Code 504\n",
      "Failed to upload fhir/Elroy493_Bogan287_6502f4ae-c27a-bead-249f-017e56434f9d.json. Received Status Code 504\n",
      "Failed to upload fhir/Lura184_Breitenberg711_fa954717-be5e-7814-653d-c36cd321be3a.json. Received Status Code 504\n",
      "Failed to upload fhir/Scottie437_Heller342_fefca304-8bb5-d702-4162-e2c401ff98b3.json. Received Status Code 504\n",
      "Failed to upload fhir/Alia555_Dicki44_e3bea4a5-cdb4-311c-7908-d8550161ff3e.json. Received Status Code 504\n",
      "Failed to upload fhir/Crystal2_Kunde533_d4a5e582-7e9b-5934-a078-0bd37dae9974.json. Received Status Code 504\n",
      "Failed to upload fhir/Torrie697_Roberts511_3a3a0e3a-c782-0b2e-b0b2-f42456adc13a.json. Received Status Code 504\n",
      "Failed to upload fhir/Felecia131_Little434_06be5be8-26b0-5c1e-eea2-30afd1148143.json. Received Status Code 504\n",
      "Failed to upload fhir/Wilbur107_Ferry570_f3d08e63-4c17-70c3-9cfe-15a53ee25676.json. Received Status Code 504\n",
      "Failed to upload fhir/Raul814_Pfannerstill264_eaf1157f-0a44-a05f-d029-f09180af08ee.json. Received Status Code 504\n",
      "Failed to upload fhir/Deetta949_Borer986_5f892581-2b1f-c3dd-c7be-723c785d8588.json. Received Status Code 504\n",
      "Failed to upload fhir/Kazuko67_Zieme486_1f3cbed6-2ff2-c3ec-427c-7586e5d2e6a9.json. Received Status Code 504\n",
      "Failed to upload fhir/Marva153_Block661_3316c17f-f543-437f-987f-9f9762a83e08.json. Received Status Code 504\n",
      "Failed to upload fhir/Edris973_Pagac496_011cdd4d-e37c-f93d-abfd-6c81ca1db953.json. Received Status Code 504\n",
      "Failed to upload fhir/Lloyd546_Pollich983_dfcbe1ce-2b72-e30a-4f53-621699c06f18.json. Received Status Code 504\n",
      "Failed to upload fhir/Jack927_Hilpert278_d19ec1c6-289d-3bbd-38fd-b2786cba1886.json. Received Status Code 504\n",
      "Failed to upload fhir/Gwenn701_Torphy630_45ff0eb5-931e-d53a-61d0-2e217334dae4.json. Received Status Code 504\n",
      "Failed to upload fhir/Jeanna557_Rowe323_cbf2ea93-c111-49bf-07e2-1103e0bbb29d.json. Received Status Code 504\n",
      "Failed to upload fhir/Lyndsay952_Bednar518_09671e3d-4908-376b-da9d-6bb27ea2058b.json. Received Status Code 504\n",
      "Failed to upload fhir/Claudia969_King743_83348daa-73bf-e259-4490-1d67e940dc46.json. Received Status Code 504\n",
      "Failed to upload fhir/Sharice315_Abernathy524_c54cd931-5114-de80-2ed4-e277ac04a7ed.json. Received Status Code 504\n",
      "Failed to upload fhir/Georgeann302_Larson43_488cda24-3ec4-8b2e-ca44-93a803f4666d.json. Received Status Code 504\n",
      "Failed to upload fhir/Andres25_Mueller846_8e112406-1485-92c0-34db-9b02a5b24cf8.json. Received Status Code 504\n",
      "Failed to upload fhir/Maryland870_Ratke343_2250abb1-b861-23e2-1d4a-29e2d0c47e26.json. Received Status Code 504\n",
      "Failed to upload fhir/Edra310_Hansen121_74a25b27-e658-54f0-3bed-7a2e79ded891.json. Received Status Code 504\n",
      "Failed to upload fhir/Detra426_Bauch723_9d09aa10-aa2c-c4ee-2b65-af5ae49978c7.json. Received Status Code 504\n",
      "Failed to upload fhir/Owen89_Hessel84_f10179d9-5470-22b7-cb3a-9d89af44a516.json. Received Status Code 504\n"
     ]
    }
   ],
   "source": [
    "# Post the patient transaction bundles\n",
    "for filename in os.scandir(synthea_data_directory):\n",
    "    if filename.name.startswith('hospitalInformation') or filename.name.startswith('practitionerInformation') or not filename.name.endswith('.json'):\n",
    "        continue\n",
    "    if record_on_server(filename.path):\n",
    "        print(f'{filename.path} already loaded')\n",
    "        continue\n",
    "    post_transaction_bundle(filename.path)"
   ]
  },
  {
   "cell_type": "markdown",
   "id": "546fd2a2",
   "metadata": {},
   "source": [
    "## What is this notebook?\n",
    "\n",
    "(common overview of the FHIR Training)\n",
    "\n",
    "(overview of this specific notebook)\n",
    "\n",
    "\n",
    "\n",
    "\n",
    "### Icons in this Guide\n",
    " 📘 A link to a useful external reference related to the section the icon appears in  \n",
    "\n",
    " ⚡️ A key takeaway for the section that this icon appears in  \n",
    "\n",
    " 🖐 A hands-on section where you will code something or interact with the server  \n",
    "\n",
    "\n",
    "(any required MITRE legalese should either go here or at the very bottom of the notebook)"
   ]
  },
  {
   "cell_type": "markdown",
   "id": "e678d59c",
   "metadata": {},
   "source": [
    "## Motivation / Purpose"
   ]
  },
  {
   "cell_type": "markdown",
   "id": "55e62a86",
   "metadata": {},
   "source": [
    "## Scenario\n",
    "\n",
    "(this section describes the specifics of the use case: what is the problem statement, what is the basic approach we are going to take, etc)\n"
   ]
  },
  {
   "cell_type": "markdown",
   "id": "98149b70",
   "metadata": {},
   "source": [
    "## Initial Setup"
   ]
  },
  {
   "cell_type": "code",
   "execution_count": null,
   "id": "b59e4777",
   "metadata": {},
   "outputs": [],
   "source": [
    "# import any required libraries here.\n",
    "#  - requests\n",
    "#  - fhirclient: https://github.com/smart-on-fhir/client-py\n",
    "#  - Pandas - DataFrames\n",
    "#  - NumPy - basic data analysis\n",
    "#  - matplotlib\n",
    "#  - maybe seaborn for viz on top of matplotlib ?"
   ]
  },
  {
   "cell_type": "markdown",
   "id": "713f4681",
   "metadata": {},
   "source": [
    "## Step 1 Connect to Client"
   ]
  },
  {
   "cell_type": "markdown",
   "id": "99f54e3b",
   "metadata": {},
   "source": [
    "sync to source server for data extraction"
   ]
  },
  {
   "cell_type": "code",
   "execution_count": null,
   "id": "9935a0db",
   "metadata": {},
   "outputs": [],
   "source": []
  },
  {
   "cell_type": "markdown",
   "id": "47be99cf",
   "metadata": {},
   "source": [
    "## Step 2 Query Data"
   ]
  },
  {
   "cell_type": "markdown",
   "id": "45418573",
   "metadata": {},
   "source": [
    "Submit query to source and retreive data. Save it locally"
   ]
  },
  {
   "cell_type": "code",
   "execution_count": null,
   "id": "a018c875",
   "metadata": {},
   "outputs": [],
   "source": []
  },
  {
   "cell_type": "markdown",
   "id": "5b2134d6",
   "metadata": {},
   "source": [
    "## Step 3 Mount Data onto Pandas Dataframe"
   ]
  },
  {
   "cell_type": "markdown",
   "id": "82fcd425",
   "metadata": {},
   "source": [
    "Take FHIR formatted data and convert it to a pandas dataframe for subsequent analysis."
   ]
  },
  {
   "cell_type": "markdown",
   "id": "4bc2c42a",
   "metadata": {},
   "source": [
    "This resource seems like a good one! https://github.com/dermatologist/fhiry"
   ]
  },
  {
   "cell_type": "code",
   "execution_count": null,
   "id": "93242baf",
   "metadata": {},
   "outputs": [],
   "source": []
  },
  {
   "cell_type": "markdown",
   "id": "bbba7956",
   "metadata": {},
   "source": [
    "## Step 4 Exploratory Data Analysis "
   ]
  },
  {
   "cell_type": "markdown",
   "id": "4277287c",
   "metadata": {},
   "source": [
    "Conduct some limited, EDA for demonstration purposes."
   ]
  },
  {
   "cell_type": "code",
   "execution_count": null,
   "id": "4956f1a4",
   "metadata": {},
   "outputs": [],
   "source": []
  },
  {
   "cell_type": "markdown",
   "id": "47fdc437",
   "metadata": {},
   "source": [
    "## Summary\n",
    "\n",
    "(A review of what was done in this notebook, possibly reinforcing how this kind of use case could be useful in the real world)"
   ]
  }
 ],
 "metadata": {
  "kernelspec": {
   "display_name": "Python 3 (ipykernel)",
   "language": "python",
   "name": "python3"
  },
  "language_info": {
   "codemirror_mode": {
    "name": "ipython",
    "version": 3
   },
   "file_extension": ".py",
   "mimetype": "text/x-python",
   "name": "python",
   "nbconvert_exporter": "python",
   "pygments_lexer": "ipython3",
   "version": "3.9.5"
  }
 },
 "nbformat": 4,
 "nbformat_minor": 5
}
