{
 "cells": [
  {
   "cell_type": "markdown",
   "id": "d2c7896a",
   "metadata": {},
   "source": [
    "# FHIR for Research Workshop"
   ]
  },
  {
   "cell_type": "markdown",
   "id": "f1ba37c9",
   "metadata": {},
   "source": [
    "## Exercise 0 - Getting Started"
   ]
  },
  {
   "cell_type": "markdown",
   "id": "877984cd",
   "metadata": {},
   "source": [
    "### Motivation / Purpose"
   ]
  },
  {
   "cell_type": "markdown",
   "id": "e0759183",
   "metadata": {},
   "source": [
    "\n",
    "#### Exercise Objective: Introduce you to the basic mechanisms for working with FHIR\n",
    "\n",
    "For this exercise, we will walk you through the following steps:\n",
    "<ol>\n",
    "    <li> Establish a connection to the client server</li>\n",
    "    <li> Format and submit a query to the server </li>\n",
    "    <li> Process response data from the FHIR server as a JSON document.</li>\n",
    "    <li> View the resulting JSON to confirm that we successfully pulled data from the remote server.</li>\n",
    "    </ol>\n"
   ]
  },
  {
   "cell_type": "markdown",
   "id": "e1b59f60",
   "metadata": {},
   "source": [
    "## Step 1: Establish a Connection to the FHIR Server"
   ]
  },
  {
   "cell_type": "markdown",
   "id": "32d1a558",
   "metadata": {},
   "source": [
    "First let's connect to our FHIR server for data retrieval.\n",
    "\n",
    "We use the python requests library to submit a RESTful GET request formatted as a URL."
   ]
  },
  {
   "cell_type": "markdown",
   "id": "ea126dc7",
   "metadata": {},
   "source": [
    "Generally speaking the pattern for a RESTful GET query appended to a URL will take the form of: \n",
    "\n",
    "```\n",
    "VERB [url]/[Resource]/[id] {?parameter=[value]}\n",
    "```\n",
    "\n",
    "See http://hl7.org/fhir/R4/http.html for more details."
   ]
  },
  {
   "cell_type": "markdown",
   "id": "dae0761c",
   "metadata": {},
   "source": [
    "Let's string together a basic query to get the status of our FHIR server. \n",
    "\n",
    "Generally we'll want to use the following python notation:\n",
    "\n",
    "```\n",
    "r = requests.get(url)\n",
    "```\n",
    "\n",
    "In this case, we want to modify the general pattern with:\n",
    "\n",
    "- `[url] = https://api.logicahealth.org/researchonfhir/open/`\n",
    "- `[Resource] = metadata`\n",
    "- `[id] = status_code`\n",
    "    \n",
    "To view the resulting query you can just output the variable directly."
   ]
  },
  {
   "cell_type": "code",
   "execution_count": 1,
   "id": "e490f7e1",
   "metadata": {},
   "outputs": [],
   "source": [
    "# Let's import the requests library we'll be using for this exercise:\n",
    "import requests"
   ]
  },
  {
   "cell_type": "code",
   "execution_count": 2,
   "id": "e1ee864a",
   "metadata": {},
   "outputs": [
    {
     "data": {
      "text/plain": [
       "<Response [200]>"
      ]
     },
     "execution_count": 2,
     "metadata": {},
     "output_type": "execute_result"
    }
   ],
   "source": [
    "r = requests.get(\"https://api.logicahealth.org/researchonfhir/open/metadata/status_code\")\n",
    "r"
   ]
  },
  {
   "cell_type": "markdown",
   "id": "5932601d",
   "metadata": {},
   "source": [
    "Hopefully you got a server status = <Response [200]> meaning the server is up and running!"
   ]
  },
  {
   "cell_type": "markdown",
   "id": "16b58166",
   "metadata": {},
   "source": [
    "## Step 2: Format and submit a query to the server "
   ]
  },
  {
   "cell_type": "markdown",
   "id": "79b4f77e",
   "metadata": {},
   "source": [
    "We are now positioned to submit specific queries to our FHIR server and retrieve data."
   ]
  },
  {
   "cell_type": "markdown",
   "id": "587127ae",
   "metadata": {},
   "source": [
    "Let's submit a sample query to return the basic information from a single patient: `smart-1032702`:\n",
    "\n",
    "- `[URL] = https://api.logicahealth.org/researchonfhir/open/`\n",
    "- `[Resource] = Patient`\n",
    "- `ID = smart-1032702`"
   ]
  },
  {
   "cell_type": "code",
   "execution_count": 3,
   "id": "38a18304",
   "metadata": {},
   "outputs": [
    {
     "name": "stderr",
     "output_type": "stream",
     "text": [
      "/opt/anaconda3/lib/python3.7/site-packages/urllib3/connectionpool.py:1004: InsecureRequestWarning: Unverified HTTPS request is being made. Adding certificate verification is strongly advised. See: https://urllib3.readthedocs.io/en/latest/advanced-usage.html#ssl-warnings\n",
      "  InsecureRequestWarning,\n"
     ]
    },
    {
     "data": {
      "text/plain": [
       "<Response [200]>"
      ]
     },
     "execution_count": 3,
     "metadata": {},
     "output_type": "execute_result"
    }
   ],
   "source": [
    "t = requests.get(f\"https://api.logicahealth.org/researchonfhir/open/Patient/smart-1032702\", headers={'Accept':'application/fhir+json'}, verify=False)\n",
    "t"
   ]
  },
  {
   "cell_type": "markdown",
   "id": "e870fe6a",
   "metadata": {},
   "source": [
    "So if you output the resulting query we again (hopefully!) get a 200 status response telling us our query was successfully received. We now have to convert the response into a format we can parse locally, and to do that we'll need the JSON Library!"
   ]
  },
  {
   "cell_type": "markdown",
   "id": "7c350ecf",
   "metadata": {},
   "source": [
    "## Step 3: Process response data from the FHIR server as a JSON document"
   ]
  },
  {
   "cell_type": "markdown",
   "id": "f22de8a9",
   "metadata": {},
   "source": [
    "We'll leverage the JSON library to convert our previously queried data into a JSON formatted file we can then output directly into our workbook to review. "
   ]
  },
  {
   "cell_type": "code",
   "execution_count": 4,
   "id": "7a8b2e46",
   "metadata": {},
   "outputs": [],
   "source": [
    "# Let's import the JSON library we'll be using\n",
    "import json"
   ]
  },
  {
   "cell_type": "markdown",
   "id": "ae62a41d",
   "metadata": {},
   "source": [
    "Now we can convert our query by simply appending the .json() method to our previously stored such that json = query.json()"
   ]
  },
  {
   "cell_type": "code",
   "execution_count": 5,
   "id": "84da38bd",
   "metadata": {},
   "outputs": [],
   "source": [
    "json = t.json()"
   ]
  },
  {
   "cell_type": "markdown",
   "id": "5c8ea70b",
   "metadata": {},
   "source": [
    "## Step 4: View the resulting JSON to confirm that we successfully pulled data from our remote server"
   ]
  },
  {
   "cell_type": "markdown",
   "id": "8a96d983",
   "metadata": {},
   "source": [
    "Let's now output the response data to confirm we successfully accessed the server and queried data."
   ]
  },
  {
   "cell_type": "code",
   "execution_count": 6,
   "id": "139f9c4a",
   "metadata": {},
   "outputs": [
    {
     "data": {
      "text/plain": [
       "{'resourceType': 'Patient',\n",
       " 'id': 'smart-1032702',\n",
       " 'meta': {'versionId': '1',\n",
       "  'lastUpdated': '2020-07-15T02:51:25.000+00:00',\n",
       "  'source': '#KQSArAdbxORTtqVw'},\n",
       " 'text': {'status': 'generated',\n",
       "  'div': '<div xmlns=\"http://www.w3.org/1999/xhtml\">Amy Shaw</div>'},\n",
       " 'identifier': [{'use': 'official',\n",
       "   'type': {'coding': [{'system': 'http://terminology.hl7.org/CodeSystem/v2-0203',\n",
       "      'code': 'MR',\n",
       "      'display': 'Medical Record Number'}],\n",
       "    'text': 'Medical Record Number'},\n",
       "   'system': 'http://hospital.smarthealthit.org',\n",
       "   'value': 'smart-1032702'}],\n",
       " 'active': True,\n",
       " 'name': [{'use': 'official', 'family': 'Shaw', 'given': ['Amy', 'V']}],\n",
       " 'telecom': [{'system': 'phone', 'value': '800-782-6765', 'use': 'mobile'},\n",
       "  {'system': 'email', 'value': 'amy.shaw@example.com'}],\n",
       " 'gender': 'female',\n",
       " 'birthDate': '2007-03-20',\n",
       " 'address': [{'use': 'home',\n",
       "   'line': ['49 Meadow St'],\n",
       "   'city': 'Mounds',\n",
       "   'state': 'OK',\n",
       "   'postalCode': '74047',\n",
       "   'country': 'USA'}],\n",
       " 'generalPractitioner': [{'reference': 'Practitioner/smart-Practitioner-72004454'}]}"
      ]
     },
     "execution_count": 6,
     "metadata": {},
     "output_type": "execute_result"
    }
   ],
   "source": [
    "json"
   ]
  },
  {
   "cell_type": "markdown",
   "id": "cc332e18",
   "metadata": {},
   "source": [
    "We can now visualize the specific patient data stored in this FHIR resource. As a next step we'll begin the process of converting the data into a Python Pandas Dataframe and begin working with the data in Exercise 1."
   ]
  },
  {
   "cell_type": "code",
   "execution_count": null,
   "id": "207f1106",
   "metadata": {},
   "outputs": [],
   "source": []
  }
 ],
 "metadata": {
  "kernelspec": {
   "display_name": "Python 3",
   "language": "python",
   "name": "python3"
  },
  "language_info": {
   "codemirror_mode": {
    "name": "ipython",
    "version": 3
   },
   "file_extension": ".py",
   "mimetype": "text/x-python",
   "name": "python",
   "nbconvert_exporter": "python",
   "pygments_lexer": "ipython3",
   "version": "3.9.5"
  }
 },
 "nbformat": 4,
 "nbformat_minor": 5
}
